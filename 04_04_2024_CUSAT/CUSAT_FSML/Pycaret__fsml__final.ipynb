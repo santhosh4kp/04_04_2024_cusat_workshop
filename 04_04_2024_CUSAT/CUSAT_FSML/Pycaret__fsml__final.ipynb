{
  "cells": [
    {
      "cell_type": "markdown",
      "source": [
        "To save features in csv"
      ],
      "metadata": {
        "id": "xS74LRtxns0P"
      }
    },
    {
      "cell_type": "code",
      "source": [
        "from google.colab import drive\n",
        "drive.mount('/content/drive')"
      ],
      "metadata": {
        "colab": {
          "base_uri": "https://localhost:8080/"
        },
        "id": "A8ybahfFuTOw",
        "outputId": "a85225c5-761f-4cb3-dd07-b227abf74a71"
      },
      "execution_count": 31,
      "outputs": [
        {
          "output_type": "stream",
          "name": "stdout",
          "text": [
            "Drive already mounted at /content/drive; to attempt to forcibly remount, call drive.mount(\"/content/drive\", force_remount=True).\n"
          ]
        }
      ]
    },
    {
      "cell_type": "code",
      "source": [
        "import zipfile\n",
        "with zipfile.ZipFile(\"/content/drive/MyDrive/DATASET-Aesthetix/image_classification/dataset.zip\", 'r') as zip_ref:\n",
        "  zip_ref.extractall(\"\")"
      ],
      "metadata": {
        "id": "s8sBoJzxtTpa"
      },
      "execution_count": 32,
      "outputs": []
    },
    {
      "cell_type": "code",
      "source": [
        "import os\n",
        "import cv2\n",
        "import numpy as np\n",
        "import pandas as pd\n",
        "\n",
        "\n",
        "def extract_features(img):\n",
        "    return  list(cv2.mean(im))[:3]\n",
        "\n",
        "\n",
        "data=[]\n",
        "basepath='./dataset/'\n",
        "for folder in os.scandir(basepath):\n",
        "    if folder.is_dir():\n",
        "        #print(folder.name)\n",
        "        for file in os.scandir(folder.path):\n",
        "            im=cv2.imread(file.path)\n",
        "            im=cv2.cvtColor(im,cv2.COLOR_BGR2RGB)\n",
        "            features=extract_features(im)\n",
        "            features.append(folder.name)\n",
        "            data.append(features)\n",
        "            #print(features)"
      ],
      "metadata": {
        "id": "pKw0qUB0tmnW"
      },
      "execution_count": 33,
      "outputs": []
    },
    {
      "cell_type": "code",
      "source": [
        "print(data)"
      ],
      "metadata": {
        "colab": {
          "base_uri": "https://localhost:8080/"
        },
        "id": "hCp9NxxQtoU4",
        "outputId": "24a873bd-c612-4a59-ac15-c144a3b4c614"
      },
      "execution_count": 34,
      "outputs": [
        {
          "output_type": "stream",
          "name": "stdout",
          "text": [
            "[[201.32772732648246, 178.4047279675839, 150.46524047528646, 'melon'], [216.19443616492796, 224.07205166418282, 198.71262791852956, 'melon'], [191.58952649111674, 189.28896335659897, 163.06587087563452, 'melon'], [183.6846496634114, 166.2378011651549, 158.60121150827513, 'melon'], [196.76813440860215, 141.60847849462365, 129.94942204301074, 'melon'], [197.1388400636981, 180.72692446367407, 164.11924238327023, 'melon'], [196.4696317204301, 141.29879569892472, 129.61652688172043, 'melon'], [199.0914880952381, 173.71873015873015, 156.2122222222222, 'melon'], [165.78528442906574, 171.09423944636677, 143.60087474048441, 'melon'], [217.58591259232858, 207.05540703776313, 196.4403057486287, 'melon'], [189.83143399810066, 166.85586815447925, 138.57514245014244, 'melon'], [183.69758646481884, 166.24619744424427, 158.61590341645334, 'melon'], [201.572204828801, 178.40579232047602, 150.47182576978855, 'melon'], [165.81769965397925, 171.0566920415225, 143.59790726643598, 'melon'], [197.15950814253952, 180.73369238627487, 164.10269439937503, 'melon'], [148.11437037037038, 129.7312, 84.09592098765432, 'melon'], [168.28789925313842, 166.92148021611314, 147.61864373112982, 'melon'], [167.80424691358024, 185.98696296296296, 154.67926913580246, 'melon'], [148.11437037037038, 129.7312, 84.09592098765432, 'melon'], [166.03120987654322, 170.96171851851852, 143.6199901234568, 'melon'], [243.80198208073736, 229.5385286518048, 197.488171273252, 'lemon'], [245.9088032903583, 231.5743296685913, 192.3597247488729, 'lemon'], [232.69082632360218, 232.24819396338447, 170.52845126175163, 'lemon'], [240.57896296296298, 220.28397037037038, 163.49147654320987, 'lemon'], [247.7027111111111, 240.56435555555558, 200.9878111111111, 'lemon'], [239.0300527777778, 221.49526111111112, 166.0184111111111, 'lemon'], [249.62398333333334, 219.08794722222223, 163.4299861111111, 'lemon'], [240.68187500000002, 220.37140694444446, 163.5134277777778, 'lemon'], [248.17161814220637, 227.86783521489403, 156.13703703703703, 'lemon'], [240.6778277777778, 220.3668076388889, 163.5342, 'lemon'], [238.354212345679, 229.35806419753087, 183.0544790123457, 'lemon'], [247.78895555555556, 240.56542222222222, 201.0293777777778, 'lemon'], [110.10658718330849, 135.74249379036263, 44.469428713363136, 'lemon'], [238.90226907271753, 231.64895876759374, 171.97953268616124, 'lemon'], [249.31729722222224, 219.0890638888889, 163.4220388888889, 'lemon'], [230.44007312033062, 228.03771260530917, 165.2597162613257, 'lemon'], [251.57804820415876, 233.00096408317577, 168.173213610586, 'lemon'], [239.00753611111114, 221.49644166666667, 166.01748333333333, 'lemon'], [242.31434825870647, 217.12161194029852, 148.90772139303482, 'lemon'], [239.69084947839048, 220.85893691008445, 159.57828117237952, 'lemon'], [227.15680079483357, 211.0993740685544, 143.47723795330353, 'lemon'], [233.14817599999998, 226.423316, 175.492492, 'lemon']]\n"
          ]
        }
      ]
    },
    {
      "cell_type": "code",
      "source": [
        "df = pd.DataFrame(data, columns=['R','G','B','class'])\n",
        "df.to_csv('curdata.csv',index=False)"
      ],
      "metadata": {
        "id": "CJqHAkf5ts1i"
      },
      "execution_count": 35,
      "outputs": []
    },
    {
      "cell_type": "code",
      "source": [
        "df = pd.read_csv('curdata.csv')\n",
        "print(df)"
      ],
      "metadata": {
        "colab": {
          "base_uri": "https://localhost:8080/"
        },
        "id": "ZULcg0c-txUJ",
        "outputId": "51741c60-2d64-49de-f30a-1735ec073fde"
      },
      "execution_count": 36,
      "outputs": [
        {
          "output_type": "stream",
          "name": "stdout",
          "text": [
            "             R           G           B  class\n",
            "0   201.327727  178.404728  150.465240  melon\n",
            "1   216.194436  224.072052  198.712628  melon\n",
            "2   191.589526  189.288963  163.065871  melon\n",
            "3   183.684650  166.237801  158.601212  melon\n",
            "4   196.768134  141.608478  129.949422  melon\n",
            "5   197.138840  180.726924  164.119242  melon\n",
            "6   196.469632  141.298796  129.616527  melon\n",
            "7   199.091488  173.718730  156.212222  melon\n",
            "8   165.785284  171.094239  143.600875  melon\n",
            "9   217.585913  207.055407  196.440306  melon\n",
            "10  189.831434  166.855868  138.575142  melon\n",
            "11  183.697586  166.246197  158.615903  melon\n",
            "12  201.572205  178.405792  150.471826  melon\n",
            "13  165.817700  171.056692  143.597907  melon\n",
            "14  197.159508  180.733692  164.102694  melon\n",
            "15  148.114370  129.731200   84.095921  melon\n",
            "16  168.287899  166.921480  147.618644  melon\n",
            "17  167.804247  185.986963  154.679269  melon\n",
            "18  148.114370  129.731200   84.095921  melon\n",
            "19  166.031210  170.961719  143.619990  melon\n",
            "20  243.801982  229.538529  197.488171  lemon\n",
            "21  245.908803  231.574330  192.359725  lemon\n",
            "22  232.690826  232.248194  170.528451  lemon\n",
            "23  240.578963  220.283970  163.491477  lemon\n",
            "24  247.702711  240.564356  200.987811  lemon\n",
            "25  239.030053  221.495261  166.018411  lemon\n",
            "26  249.623983  219.087947  163.429986  lemon\n",
            "27  240.681875  220.371407  163.513428  lemon\n",
            "28  248.171618  227.867835  156.137037  lemon\n",
            "29  240.677828  220.366808  163.534200  lemon\n",
            "30  238.354212  229.358064  183.054479  lemon\n",
            "31  247.788956  240.565422  201.029378  lemon\n",
            "32  110.106587  135.742494   44.469429  lemon\n",
            "33  238.902269  231.648959  171.979533  lemon\n",
            "34  249.317297  219.089064  163.422039  lemon\n",
            "35  230.440073  228.037713  165.259716  lemon\n",
            "36  251.578048  233.000964  168.173214  lemon\n",
            "37  239.007536  221.496442  166.017483  lemon\n",
            "38  242.314348  217.121612  148.907721  lemon\n",
            "39  239.690849  220.858937  159.578281  lemon\n",
            "40  227.156801  211.099374  143.477238  lemon\n",
            "41  233.148176  226.423316  175.492492  lemon\n"
          ]
        }
      ]
    },
    {
      "cell_type": "code",
      "execution_count": 37,
      "metadata": {
        "colab": {
          "base_uri": "https://localhost:8080/"
        },
        "id": "VtqW839-iKHf",
        "outputId": "3ec53387-3e50-4e4f-ecdb-6c763f91f8df"
      },
      "outputs": [
        {
          "output_type": "stream",
          "name": "stdout",
          "text": [
            "Requirement already satisfied: pycaret in /usr/local/lib/python3.10/dist-packages (3.3.0)\n",
            "Requirement already satisfied: ipython>=5.5.0 in /usr/local/lib/python3.10/dist-packages (from pycaret) (7.34.0)\n",
            "Requirement already satisfied: ipywidgets>=7.6.5 in /usr/local/lib/python3.10/dist-packages (from pycaret) (7.7.1)\n",
            "Requirement already satisfied: tqdm>=4.62.0 in /usr/local/lib/python3.10/dist-packages (from pycaret) (4.66.2)\n",
            "Requirement already satisfied: numpy<1.27,>=1.21 in /usr/local/lib/python3.10/dist-packages (from pycaret) (1.25.2)\n",
            "Requirement already satisfied: pandas<2.2.0 in /usr/local/lib/python3.10/dist-packages (from pycaret) (2.0.3)\n",
            "Requirement already satisfied: jinja2>=3 in /usr/local/lib/python3.10/dist-packages (from pycaret) (3.1.3)\n",
            "Requirement already satisfied: scipy<=1.11.4,>=1.6.1 in /usr/local/lib/python3.10/dist-packages (from pycaret) (1.11.4)\n",
            "Requirement already satisfied: joblib>=1.2.0 in /usr/local/lib/python3.10/dist-packages (from pycaret) (1.3.2)\n",
            "Requirement already satisfied: scikit-learn>1.4.0 in /usr/local/lib/python3.10/dist-packages (from pycaret) (1.4.1.post1)\n",
            "Requirement already satisfied: pyod>=1.1.3 in /usr/local/lib/python3.10/dist-packages (from pycaret) (1.1.3)\n",
            "Requirement already satisfied: imbalanced-learn>=0.12.0 in /usr/local/lib/python3.10/dist-packages (from pycaret) (0.12.2)\n",
            "Requirement already satisfied: category-encoders>=2.4.0 in /usr/local/lib/python3.10/dist-packages (from pycaret) (2.6.3)\n",
            "Requirement already satisfied: lightgbm>=3.0.0 in /usr/local/lib/python3.10/dist-packages (from pycaret) (4.1.0)\n",
            "Requirement already satisfied: numba>=0.55.0 in /usr/local/lib/python3.10/dist-packages (from pycaret) (0.58.1)\n",
            "Requirement already satisfied: requests>=2.27.1 in /usr/local/lib/python3.10/dist-packages (from pycaret) (2.31.0)\n",
            "Requirement already satisfied: psutil>=5.9.0 in /usr/local/lib/python3.10/dist-packages (from pycaret) (5.9.5)\n",
            "Requirement already satisfied: markupsafe>=2.0.1 in /usr/local/lib/python3.10/dist-packages (from pycaret) (2.1.5)\n",
            "Requirement already satisfied: importlib-metadata>=4.12.0 in /usr/local/lib/python3.10/dist-packages (from pycaret) (7.1.0)\n",
            "Requirement already satisfied: nbformat>=4.2.0 in /usr/local/lib/python3.10/dist-packages (from pycaret) (5.10.3)\n",
            "Requirement already satisfied: cloudpickle in /usr/local/lib/python3.10/dist-packages (from pycaret) (2.2.1)\n",
            "Requirement already satisfied: deprecation>=2.1.0 in /usr/local/lib/python3.10/dist-packages (from pycaret) (2.1.0)\n",
            "Requirement already satisfied: xxhash in /usr/local/lib/python3.10/dist-packages (from pycaret) (3.4.1)\n",
            "Requirement already satisfied: matplotlib<3.8.0 in /usr/local/lib/python3.10/dist-packages (from pycaret) (3.7.1)\n",
            "Requirement already satisfied: scikit-plot>=0.3.7 in /usr/local/lib/python3.10/dist-packages (from pycaret) (0.3.7)\n",
            "Requirement already satisfied: yellowbrick>=1.4 in /usr/local/lib/python3.10/dist-packages (from pycaret) (1.5)\n",
            "Requirement already satisfied: plotly>=5.14.0 in /usr/local/lib/python3.10/dist-packages (from pycaret) (5.15.0)\n",
            "Requirement already satisfied: kaleido>=0.2.1 in /usr/local/lib/python3.10/dist-packages (from pycaret) (0.2.1)\n",
            "Requirement already satisfied: schemdraw==0.15 in /usr/local/lib/python3.10/dist-packages (from pycaret) (0.15)\n",
            "Requirement already satisfied: plotly-resampler>=0.8.3.1 in /usr/local/lib/python3.10/dist-packages (from pycaret) (0.10.0)\n",
            "Requirement already satisfied: statsmodels>=0.12.1 in /usr/local/lib/python3.10/dist-packages (from pycaret) (0.14.1)\n",
            "Requirement already satisfied: sktime>=0.26.0 in /usr/local/lib/python3.10/dist-packages (from pycaret) (0.28.0)\n",
            "Requirement already satisfied: tbats>=1.1.3 in /usr/local/lib/python3.10/dist-packages (from pycaret) (1.1.3)\n",
            "Requirement already satisfied: pmdarima>=2.0.4 in /usr/local/lib/python3.10/dist-packages (from pycaret) (2.0.4)\n",
            "Requirement already satisfied: wurlitzer in /usr/local/lib/python3.10/dist-packages (from pycaret) (3.0.3)\n",
            "Requirement already satisfied: patsy>=0.5.1 in /usr/local/lib/python3.10/dist-packages (from category-encoders>=2.4.0->pycaret) (0.5.6)\n",
            "Requirement already satisfied: packaging in /usr/local/lib/python3.10/dist-packages (from deprecation>=2.1.0->pycaret) (24.0)\n",
            "Requirement already satisfied: threadpoolctl>=2.0.0 in /usr/local/lib/python3.10/dist-packages (from imbalanced-learn>=0.12.0->pycaret) (3.4.0)\n",
            "Requirement already satisfied: zipp>=0.5 in /usr/local/lib/python3.10/dist-packages (from importlib-metadata>=4.12.0->pycaret) (3.18.1)\n",
            "Requirement already satisfied: setuptools>=18.5 in /usr/local/lib/python3.10/dist-packages (from ipython>=5.5.0->pycaret) (67.7.2)\n",
            "Requirement already satisfied: jedi>=0.16 in /usr/local/lib/python3.10/dist-packages (from ipython>=5.5.0->pycaret) (0.19.1)\n",
            "Requirement already satisfied: decorator in /usr/local/lib/python3.10/dist-packages (from ipython>=5.5.0->pycaret) (4.4.2)\n",
            "Requirement already satisfied: pickleshare in /usr/local/lib/python3.10/dist-packages (from ipython>=5.5.0->pycaret) (0.7.5)\n",
            "Requirement already satisfied: traitlets>=4.2 in /usr/local/lib/python3.10/dist-packages (from ipython>=5.5.0->pycaret) (5.7.1)\n",
            "Requirement already satisfied: prompt-toolkit!=3.0.0,!=3.0.1,<3.1.0,>=2.0.0 in /usr/local/lib/python3.10/dist-packages (from ipython>=5.5.0->pycaret) (3.0.43)\n",
            "Requirement already satisfied: pygments in /usr/local/lib/python3.10/dist-packages (from ipython>=5.5.0->pycaret) (2.16.1)\n",
            "Requirement already satisfied: backcall in /usr/local/lib/python3.10/dist-packages (from ipython>=5.5.0->pycaret) (0.2.0)\n",
            "Requirement already satisfied: matplotlib-inline in /usr/local/lib/python3.10/dist-packages (from ipython>=5.5.0->pycaret) (0.1.6)\n",
            "Requirement already satisfied: pexpect>4.3 in /usr/local/lib/python3.10/dist-packages (from ipython>=5.5.0->pycaret) (4.9.0)\n",
            "Requirement already satisfied: ipykernel>=4.5.1 in /usr/local/lib/python3.10/dist-packages (from ipywidgets>=7.6.5->pycaret) (5.5.6)\n",
            "Requirement already satisfied: ipython-genutils~=0.2.0 in /usr/local/lib/python3.10/dist-packages (from ipywidgets>=7.6.5->pycaret) (0.2.0)\n",
            "Requirement already satisfied: widgetsnbextension~=3.6.0 in /usr/local/lib/python3.10/dist-packages (from ipywidgets>=7.6.5->pycaret) (3.6.6)\n",
            "Requirement already satisfied: jupyterlab-widgets>=1.0.0 in /usr/local/lib/python3.10/dist-packages (from ipywidgets>=7.6.5->pycaret) (3.0.10)\n",
            "Requirement already satisfied: contourpy>=1.0.1 in /usr/local/lib/python3.10/dist-packages (from matplotlib<3.8.0->pycaret) (1.2.0)\n",
            "Requirement already satisfied: cycler>=0.10 in /usr/local/lib/python3.10/dist-packages (from matplotlib<3.8.0->pycaret) (0.12.1)\n",
            "Requirement already satisfied: fonttools>=4.22.0 in /usr/local/lib/python3.10/dist-packages (from matplotlib<3.8.0->pycaret) (4.50.0)\n",
            "Requirement already satisfied: kiwisolver>=1.0.1 in /usr/local/lib/python3.10/dist-packages (from matplotlib<3.8.0->pycaret) (1.4.5)\n",
            "Requirement already satisfied: pillow>=6.2.0 in /usr/local/lib/python3.10/dist-packages (from matplotlib<3.8.0->pycaret) (9.4.0)\n",
            "Requirement already satisfied: pyparsing>=2.3.1 in /usr/local/lib/python3.10/dist-packages (from matplotlib<3.8.0->pycaret) (3.1.2)\n",
            "Requirement already satisfied: python-dateutil>=2.7 in /usr/local/lib/python3.10/dist-packages (from matplotlib<3.8.0->pycaret) (2.8.2)\n",
            "Requirement already satisfied: fastjsonschema in /usr/local/lib/python3.10/dist-packages (from nbformat>=4.2.0->pycaret) (2.19.1)\n",
            "Requirement already satisfied: jsonschema>=2.6 in /usr/local/lib/python3.10/dist-packages (from nbformat>=4.2.0->pycaret) (4.19.2)\n",
            "Requirement already satisfied: jupyter-core in /usr/local/lib/python3.10/dist-packages (from nbformat>=4.2.0->pycaret) (5.7.2)\n",
            "Requirement already satisfied: llvmlite<0.42,>=0.41.0dev0 in /usr/local/lib/python3.10/dist-packages (from numba>=0.55.0->pycaret) (0.41.1)\n",
            "Requirement already satisfied: pytz>=2020.1 in /usr/local/lib/python3.10/dist-packages (from pandas<2.2.0->pycaret) (2023.4)\n",
            "Requirement already satisfied: tzdata>=2022.1 in /usr/local/lib/python3.10/dist-packages (from pandas<2.2.0->pycaret) (2024.1)\n",
            "Requirement already satisfied: tenacity>=6.2.0 in /usr/local/lib/python3.10/dist-packages (from plotly>=5.14.0->pycaret) (8.2.3)\n",
            "Requirement already satisfied: dash>=2.9.0 in /usr/local/lib/python3.10/dist-packages (from plotly-resampler>=0.8.3.1->pycaret) (2.16.1)\n",
            "Requirement already satisfied: orjson<4.0.0,>=3.8.0 in /usr/local/lib/python3.10/dist-packages (from plotly-resampler>=0.8.3.1->pycaret) (3.10.0)\n",
            "Requirement already satisfied: tsdownsample>=0.1.3 in /usr/local/lib/python3.10/dist-packages (from plotly-resampler>=0.8.3.1->pycaret) (0.1.3)\n",
            "Requirement already satisfied: Cython!=0.29.18,!=0.29.31,>=0.29 in /usr/local/lib/python3.10/dist-packages (from pmdarima>=2.0.4->pycaret) (3.0.10)\n",
            "Requirement already satisfied: urllib3 in /usr/local/lib/python3.10/dist-packages (from pmdarima>=2.0.4->pycaret) (2.0.7)\n",
            "Requirement already satisfied: six in /usr/local/lib/python3.10/dist-packages (from pyod>=1.1.3->pycaret) (1.16.0)\n",
            "Requirement already satisfied: charset-normalizer<4,>=2 in /usr/local/lib/python3.10/dist-packages (from requests>=2.27.1->pycaret) (3.3.2)\n",
            "Requirement already satisfied: idna<4,>=2.5 in /usr/local/lib/python3.10/dist-packages (from requests>=2.27.1->pycaret) (3.6)\n",
            "Requirement already satisfied: certifi>=2017.4.17 in /usr/local/lib/python3.10/dist-packages (from requests>=2.27.1->pycaret) (2024.2.2)\n",
            "Requirement already satisfied: scikit-base<0.8.0 in /usr/local/lib/python3.10/dist-packages (from sktime>=0.26.0->pycaret) (0.7.5)\n",
            "Requirement already satisfied: Flask<3.1,>=1.0.4 in /usr/local/lib/python3.10/dist-packages (from dash>=2.9.0->plotly-resampler>=0.8.3.1->pycaret) (2.2.5)\n",
            "Requirement already satisfied: Werkzeug<3.1 in /usr/local/lib/python3.10/dist-packages (from dash>=2.9.0->plotly-resampler>=0.8.3.1->pycaret) (3.0.2)\n",
            "Requirement already satisfied: dash-html-components==2.0.0 in /usr/local/lib/python3.10/dist-packages (from dash>=2.9.0->plotly-resampler>=0.8.3.1->pycaret) (2.0.0)\n",
            "Requirement already satisfied: dash-core-components==2.0.0 in /usr/local/lib/python3.10/dist-packages (from dash>=2.9.0->plotly-resampler>=0.8.3.1->pycaret) (2.0.0)\n",
            "Requirement already satisfied: dash-table==5.0.0 in /usr/local/lib/python3.10/dist-packages (from dash>=2.9.0->plotly-resampler>=0.8.3.1->pycaret) (5.0.0)\n",
            "Requirement already satisfied: typing-extensions>=4.1.1 in /usr/local/lib/python3.10/dist-packages (from dash>=2.9.0->plotly-resampler>=0.8.3.1->pycaret) (4.10.0)\n",
            "Requirement already satisfied: retrying in /usr/local/lib/python3.10/dist-packages (from dash>=2.9.0->plotly-resampler>=0.8.3.1->pycaret) (1.3.4)\n",
            "Requirement already satisfied: nest-asyncio in /usr/local/lib/python3.10/dist-packages (from dash>=2.9.0->plotly-resampler>=0.8.3.1->pycaret) (1.6.0)\n",
            "Requirement already satisfied: jupyter-client in /usr/local/lib/python3.10/dist-packages (from ipykernel>=4.5.1->ipywidgets>=7.6.5->pycaret) (6.1.12)\n",
            "Requirement already satisfied: tornado>=4.2 in /usr/local/lib/python3.10/dist-packages (from ipykernel>=4.5.1->ipywidgets>=7.6.5->pycaret) (6.3.3)\n",
            "Requirement already satisfied: parso<0.9.0,>=0.8.3 in /usr/local/lib/python3.10/dist-packages (from jedi>=0.16->ipython>=5.5.0->pycaret) (0.8.3)\n",
            "Requirement already satisfied: attrs>=22.2.0 in /usr/local/lib/python3.10/dist-packages (from jsonschema>=2.6->nbformat>=4.2.0->pycaret) (23.2.0)\n",
            "Requirement already satisfied: jsonschema-specifications>=2023.03.6 in /usr/local/lib/python3.10/dist-packages (from jsonschema>=2.6->nbformat>=4.2.0->pycaret) (2023.12.1)\n",
            "Requirement already satisfied: referencing>=0.28.4 in /usr/local/lib/python3.10/dist-packages (from jsonschema>=2.6->nbformat>=4.2.0->pycaret) (0.34.0)\n",
            "Requirement already satisfied: rpds-py>=0.7.1 in /usr/local/lib/python3.10/dist-packages (from jsonschema>=2.6->nbformat>=4.2.0->pycaret) (0.18.0)\n",
            "Requirement already satisfied: ptyprocess>=0.5 in /usr/local/lib/python3.10/dist-packages (from pexpect>4.3->ipython>=5.5.0->pycaret) (0.7.0)\n",
            "Requirement already satisfied: wcwidth in /usr/local/lib/python3.10/dist-packages (from prompt-toolkit!=3.0.0,!=3.0.1,<3.1.0,>=2.0.0->ipython>=5.5.0->pycaret) (0.2.13)\n",
            "Requirement already satisfied: notebook>=4.4.1 in /usr/local/lib/python3.10/dist-packages (from widgetsnbextension~=3.6.0->ipywidgets>=7.6.5->pycaret) (6.5.5)\n",
            "Requirement already satisfied: platformdirs>=2.5 in /usr/local/lib/python3.10/dist-packages (from jupyter-core->nbformat>=4.2.0->pycaret) (4.2.0)\n",
            "Requirement already satisfied: itsdangerous>=2.0 in /usr/local/lib/python3.10/dist-packages (from Flask<3.1,>=1.0.4->dash>=2.9.0->plotly-resampler>=0.8.3.1->pycaret) (2.1.2)\n",
            "Requirement already satisfied: click>=8.0 in /usr/local/lib/python3.10/dist-packages (from Flask<3.1,>=1.0.4->dash>=2.9.0->plotly-resampler>=0.8.3.1->pycaret) (8.1.7)\n",
            "Requirement already satisfied: pyzmq<25,>=17 in /usr/local/lib/python3.10/dist-packages (from notebook>=4.4.1->widgetsnbextension~=3.6.0->ipywidgets>=7.6.5->pycaret) (23.2.1)\n",
            "Requirement already satisfied: argon2-cffi in /usr/local/lib/python3.10/dist-packages (from notebook>=4.4.1->widgetsnbextension~=3.6.0->ipywidgets>=7.6.5->pycaret) (23.1.0)\n",
            "Requirement already satisfied: nbconvert>=5 in /usr/local/lib/python3.10/dist-packages (from notebook>=4.4.1->widgetsnbextension~=3.6.0->ipywidgets>=7.6.5->pycaret) (6.5.4)\n",
            "Requirement already satisfied: Send2Trash>=1.8.0 in /usr/local/lib/python3.10/dist-packages (from notebook>=4.4.1->widgetsnbextension~=3.6.0->ipywidgets>=7.6.5->pycaret) (1.8.2)\n",
            "Requirement already satisfied: terminado>=0.8.3 in /usr/local/lib/python3.10/dist-packages (from notebook>=4.4.1->widgetsnbextension~=3.6.0->ipywidgets>=7.6.5->pycaret) (0.18.1)\n",
            "Requirement already satisfied: prometheus-client in /usr/local/lib/python3.10/dist-packages (from notebook>=4.4.1->widgetsnbextension~=3.6.0->ipywidgets>=7.6.5->pycaret) (0.20.0)\n",
            "Requirement already satisfied: nbclassic>=0.4.7 in /usr/local/lib/python3.10/dist-packages (from notebook>=4.4.1->widgetsnbextension~=3.6.0->ipywidgets>=7.6.5->pycaret) (1.0.0)\n",
            "Requirement already satisfied: jupyter-server>=1.8 in /usr/local/lib/python3.10/dist-packages (from nbclassic>=0.4.7->notebook>=4.4.1->widgetsnbextension~=3.6.0->ipywidgets>=7.6.5->pycaret) (1.24.0)\n",
            "Requirement already satisfied: notebook-shim>=0.2.3 in /usr/local/lib/python3.10/dist-packages (from nbclassic>=0.4.7->notebook>=4.4.1->widgetsnbextension~=3.6.0->ipywidgets>=7.6.5->pycaret) (0.2.4)\n",
            "Requirement already satisfied: lxml in /usr/local/lib/python3.10/dist-packages (from nbconvert>=5->notebook>=4.4.1->widgetsnbextension~=3.6.0->ipywidgets>=7.6.5->pycaret) (4.9.4)\n",
            "Requirement already satisfied: beautifulsoup4 in /usr/local/lib/python3.10/dist-packages (from nbconvert>=5->notebook>=4.4.1->widgetsnbextension~=3.6.0->ipywidgets>=7.6.5->pycaret) (4.12.3)\n",
            "Requirement already satisfied: bleach in /usr/local/lib/python3.10/dist-packages (from nbconvert>=5->notebook>=4.4.1->widgetsnbextension~=3.6.0->ipywidgets>=7.6.5->pycaret) (6.1.0)\n",
            "Requirement already satisfied: defusedxml in /usr/local/lib/python3.10/dist-packages (from nbconvert>=5->notebook>=4.4.1->widgetsnbextension~=3.6.0->ipywidgets>=7.6.5->pycaret) (0.7.1)\n",
            "Requirement already satisfied: entrypoints>=0.2.2 in /usr/local/lib/python3.10/dist-packages (from nbconvert>=5->notebook>=4.4.1->widgetsnbextension~=3.6.0->ipywidgets>=7.6.5->pycaret) (0.4)\n",
            "Requirement already satisfied: jupyterlab-pygments in /usr/local/lib/python3.10/dist-packages (from nbconvert>=5->notebook>=4.4.1->widgetsnbextension~=3.6.0->ipywidgets>=7.6.5->pycaret) (0.3.0)\n",
            "Requirement already satisfied: mistune<2,>=0.8.1 in /usr/local/lib/python3.10/dist-packages (from nbconvert>=5->notebook>=4.4.1->widgetsnbextension~=3.6.0->ipywidgets>=7.6.5->pycaret) (0.8.4)\n",
            "Requirement already satisfied: nbclient>=0.5.0 in /usr/local/lib/python3.10/dist-packages (from nbconvert>=5->notebook>=4.4.1->widgetsnbextension~=3.6.0->ipywidgets>=7.6.5->pycaret) (0.10.0)\n",
            "Requirement already satisfied: pandocfilters>=1.4.1 in /usr/local/lib/python3.10/dist-packages (from nbconvert>=5->notebook>=4.4.1->widgetsnbextension~=3.6.0->ipywidgets>=7.6.5->pycaret) (1.5.1)\n",
            "Requirement already satisfied: tinycss2 in /usr/local/lib/python3.10/dist-packages (from nbconvert>=5->notebook>=4.4.1->widgetsnbextension~=3.6.0->ipywidgets>=7.6.5->pycaret) (1.2.1)\n",
            "Requirement already satisfied: argon2-cffi-bindings in /usr/local/lib/python3.10/dist-packages (from argon2-cffi->notebook>=4.4.1->widgetsnbextension~=3.6.0->ipywidgets>=7.6.5->pycaret) (21.2.0)\n",
            "Requirement already satisfied: anyio<4,>=3.1.0 in /usr/local/lib/python3.10/dist-packages (from jupyter-server>=1.8->nbclassic>=0.4.7->notebook>=4.4.1->widgetsnbextension~=3.6.0->ipywidgets>=7.6.5->pycaret) (3.7.1)\n",
            "Requirement already satisfied: websocket-client in /usr/local/lib/python3.10/dist-packages (from jupyter-server>=1.8->nbclassic>=0.4.7->notebook>=4.4.1->widgetsnbextension~=3.6.0->ipywidgets>=7.6.5->pycaret) (1.7.0)\n",
            "Requirement already satisfied: cffi>=1.0.1 in /usr/local/lib/python3.10/dist-packages (from argon2-cffi-bindings->argon2-cffi->notebook>=4.4.1->widgetsnbextension~=3.6.0->ipywidgets>=7.6.5->pycaret) (1.16.0)\n",
            "Requirement already satisfied: soupsieve>1.2 in /usr/local/lib/python3.10/dist-packages (from beautifulsoup4->nbconvert>=5->notebook>=4.4.1->widgetsnbextension~=3.6.0->ipywidgets>=7.6.5->pycaret) (2.5)\n",
            "Requirement already satisfied: webencodings in /usr/local/lib/python3.10/dist-packages (from bleach->nbconvert>=5->notebook>=4.4.1->widgetsnbextension~=3.6.0->ipywidgets>=7.6.5->pycaret) (0.5.1)\n",
            "Requirement already satisfied: sniffio>=1.1 in /usr/local/lib/python3.10/dist-packages (from anyio<4,>=3.1.0->jupyter-server>=1.8->nbclassic>=0.4.7->notebook>=4.4.1->widgetsnbextension~=3.6.0->ipywidgets>=7.6.5->pycaret) (1.3.1)\n",
            "Requirement already satisfied: exceptiongroup in /usr/local/lib/python3.10/dist-packages (from anyio<4,>=3.1.0->jupyter-server>=1.8->nbclassic>=0.4.7->notebook>=4.4.1->widgetsnbextension~=3.6.0->ipywidgets>=7.6.5->pycaret) (1.2.0)\n",
            "Requirement already satisfied: pycparser in /usr/local/lib/python3.10/dist-packages (from cffi>=1.0.1->argon2-cffi-bindings->argon2-cffi->notebook>=4.4.1->widgetsnbextension~=3.6.0->ipywidgets>=7.6.5->pycaret) (2.22)\n"
          ]
        }
      ],
      "source": [
        "pip install pycaret"
      ]
    },
    {
      "cell_type": "code",
      "execution_count": 38,
      "metadata": {
        "id": "aUxA9CsKU_rB",
        "colab": {
          "base_uri": "https://localhost:8080/",
          "height": 36
        },
        "outputId": "584db02f-95d0-471c-c5a0-1d59f12ed768"
      },
      "outputs": [
        {
          "output_type": "execute_result",
          "data": {
            "text/plain": [
              "'3.3.0'"
            ],
            "application/vnd.google.colaboratory.intrinsic+json": {
              "type": "string"
            }
          },
          "metadata": {},
          "execution_count": 38
        }
      ],
      "source": [
        "import pycaret\n",
        "pycaret.__version__"
      ]
    },
    {
      "cell_type": "code",
      "execution_count": 39,
      "metadata": {
        "id": "9rJgpvBWVHmj",
        "colab": {
          "base_uri": "https://localhost:8080/",
          "height": 676
        },
        "outputId": "0176241c-1985-41b4-e4ea-6a62a58feec9"
      },
      "outputs": [
        {
          "output_type": "display_data",
          "data": {
            "text/plain": [
              "<pandas.io.formats.style.Styler at 0x7aceee0658a0>"
            ],
            "text/html": [
              "<style type=\"text/css\">\n",
              "#T_b8a6f_row9_col1 {\n",
              "  background-color: lightgreen;\n",
              "}\n",
              "</style>\n",
              "<table id=\"T_b8a6f\" class=\"dataframe\">\n",
              "  <thead>\n",
              "    <tr>\n",
              "      <th class=\"blank level0\" >&nbsp;</th>\n",
              "      <th id=\"T_b8a6f_level0_col0\" class=\"col_heading level0 col0\" >Description</th>\n",
              "      <th id=\"T_b8a6f_level0_col1\" class=\"col_heading level0 col1\" >Value</th>\n",
              "    </tr>\n",
              "  </thead>\n",
              "  <tbody>\n",
              "    <tr>\n",
              "      <th id=\"T_b8a6f_level0_row0\" class=\"row_heading level0 row0\" >0</th>\n",
              "      <td id=\"T_b8a6f_row0_col0\" class=\"data row0 col0\" >Session id</td>\n",
              "      <td id=\"T_b8a6f_row0_col1\" class=\"data row0 col1\" >1</td>\n",
              "    </tr>\n",
              "    <tr>\n",
              "      <th id=\"T_b8a6f_level0_row1\" class=\"row_heading level0 row1\" >1</th>\n",
              "      <td id=\"T_b8a6f_row1_col0\" class=\"data row1 col0\" >Target</td>\n",
              "      <td id=\"T_b8a6f_row1_col1\" class=\"data row1 col1\" >class</td>\n",
              "    </tr>\n",
              "    <tr>\n",
              "      <th id=\"T_b8a6f_level0_row2\" class=\"row_heading level0 row2\" >2</th>\n",
              "      <td id=\"T_b8a6f_row2_col0\" class=\"data row2 col0\" >Target type</td>\n",
              "      <td id=\"T_b8a6f_row2_col1\" class=\"data row2 col1\" >Binary</td>\n",
              "    </tr>\n",
              "    <tr>\n",
              "      <th id=\"T_b8a6f_level0_row3\" class=\"row_heading level0 row3\" >3</th>\n",
              "      <td id=\"T_b8a6f_row3_col0\" class=\"data row3 col0\" >Target mapping</td>\n",
              "      <td id=\"T_b8a6f_row3_col1\" class=\"data row3 col1\" >lemon: 0, melon: 1</td>\n",
              "    </tr>\n",
              "    <tr>\n",
              "      <th id=\"T_b8a6f_level0_row4\" class=\"row_heading level0 row4\" >4</th>\n",
              "      <td id=\"T_b8a6f_row4_col0\" class=\"data row4 col0\" >Original data shape</td>\n",
              "      <td id=\"T_b8a6f_row4_col1\" class=\"data row4 col1\" >(42, 4)</td>\n",
              "    </tr>\n",
              "    <tr>\n",
              "      <th id=\"T_b8a6f_level0_row5\" class=\"row_heading level0 row5\" >5</th>\n",
              "      <td id=\"T_b8a6f_row5_col0\" class=\"data row5 col0\" >Transformed data shape</td>\n",
              "      <td id=\"T_b8a6f_row5_col1\" class=\"data row5 col1\" >(42, 4)</td>\n",
              "    </tr>\n",
              "    <tr>\n",
              "      <th id=\"T_b8a6f_level0_row6\" class=\"row_heading level0 row6\" >6</th>\n",
              "      <td id=\"T_b8a6f_row6_col0\" class=\"data row6 col0\" >Transformed train set shape</td>\n",
              "      <td id=\"T_b8a6f_row6_col1\" class=\"data row6 col1\" >(29, 4)</td>\n",
              "    </tr>\n",
              "    <tr>\n",
              "      <th id=\"T_b8a6f_level0_row7\" class=\"row_heading level0 row7\" >7</th>\n",
              "      <td id=\"T_b8a6f_row7_col0\" class=\"data row7 col0\" >Transformed test set shape</td>\n",
              "      <td id=\"T_b8a6f_row7_col1\" class=\"data row7 col1\" >(13, 4)</td>\n",
              "    </tr>\n",
              "    <tr>\n",
              "      <th id=\"T_b8a6f_level0_row8\" class=\"row_heading level0 row8\" >8</th>\n",
              "      <td id=\"T_b8a6f_row8_col0\" class=\"data row8 col0\" >Numeric features</td>\n",
              "      <td id=\"T_b8a6f_row8_col1\" class=\"data row8 col1\" >3</td>\n",
              "    </tr>\n",
              "    <tr>\n",
              "      <th id=\"T_b8a6f_level0_row9\" class=\"row_heading level0 row9\" >9</th>\n",
              "      <td id=\"T_b8a6f_row9_col0\" class=\"data row9 col0\" >Preprocess</td>\n",
              "      <td id=\"T_b8a6f_row9_col1\" class=\"data row9 col1\" >True</td>\n",
              "    </tr>\n",
              "    <tr>\n",
              "      <th id=\"T_b8a6f_level0_row10\" class=\"row_heading level0 row10\" >10</th>\n",
              "      <td id=\"T_b8a6f_row10_col0\" class=\"data row10 col0\" >Imputation type</td>\n",
              "      <td id=\"T_b8a6f_row10_col1\" class=\"data row10 col1\" >simple</td>\n",
              "    </tr>\n",
              "    <tr>\n",
              "      <th id=\"T_b8a6f_level0_row11\" class=\"row_heading level0 row11\" >11</th>\n",
              "      <td id=\"T_b8a6f_row11_col0\" class=\"data row11 col0\" >Numeric imputation</td>\n",
              "      <td id=\"T_b8a6f_row11_col1\" class=\"data row11 col1\" >mean</td>\n",
              "    </tr>\n",
              "    <tr>\n",
              "      <th id=\"T_b8a6f_level0_row12\" class=\"row_heading level0 row12\" >12</th>\n",
              "      <td id=\"T_b8a6f_row12_col0\" class=\"data row12 col0\" >Categorical imputation</td>\n",
              "      <td id=\"T_b8a6f_row12_col1\" class=\"data row12 col1\" >mode</td>\n",
              "    </tr>\n",
              "    <tr>\n",
              "      <th id=\"T_b8a6f_level0_row13\" class=\"row_heading level0 row13\" >13</th>\n",
              "      <td id=\"T_b8a6f_row13_col0\" class=\"data row13 col0\" >Fold Generator</td>\n",
              "      <td id=\"T_b8a6f_row13_col1\" class=\"data row13 col1\" >StratifiedKFold</td>\n",
              "    </tr>\n",
              "    <tr>\n",
              "      <th id=\"T_b8a6f_level0_row14\" class=\"row_heading level0 row14\" >14</th>\n",
              "      <td id=\"T_b8a6f_row14_col0\" class=\"data row14 col0\" >Fold Number</td>\n",
              "      <td id=\"T_b8a6f_row14_col1\" class=\"data row14 col1\" >10</td>\n",
              "    </tr>\n",
              "    <tr>\n",
              "      <th id=\"T_b8a6f_level0_row15\" class=\"row_heading level0 row15\" >15</th>\n",
              "      <td id=\"T_b8a6f_row15_col0\" class=\"data row15 col0\" >CPU Jobs</td>\n",
              "      <td id=\"T_b8a6f_row15_col1\" class=\"data row15 col1\" >-1</td>\n",
              "    </tr>\n",
              "    <tr>\n",
              "      <th id=\"T_b8a6f_level0_row16\" class=\"row_heading level0 row16\" >16</th>\n",
              "      <td id=\"T_b8a6f_row16_col0\" class=\"data row16 col0\" >Use GPU</td>\n",
              "      <td id=\"T_b8a6f_row16_col1\" class=\"data row16 col1\" >False</td>\n",
              "    </tr>\n",
              "    <tr>\n",
              "      <th id=\"T_b8a6f_level0_row17\" class=\"row_heading level0 row17\" >17</th>\n",
              "      <td id=\"T_b8a6f_row17_col0\" class=\"data row17 col0\" >Log Experiment</td>\n",
              "      <td id=\"T_b8a6f_row17_col1\" class=\"data row17 col1\" >False</td>\n",
              "    </tr>\n",
              "    <tr>\n",
              "      <th id=\"T_b8a6f_level0_row18\" class=\"row_heading level0 row18\" >18</th>\n",
              "      <td id=\"T_b8a6f_row18_col0\" class=\"data row18 col0\" >Experiment Name</td>\n",
              "      <td id=\"T_b8a6f_row18_col1\" class=\"data row18 col1\" >clf-default-name</td>\n",
              "    </tr>\n",
              "    <tr>\n",
              "      <th id=\"T_b8a6f_level0_row19\" class=\"row_heading level0 row19\" >19</th>\n",
              "      <td id=\"T_b8a6f_row19_col0\" class=\"data row19 col0\" >USI</td>\n",
              "      <td id=\"T_b8a6f_row19_col1\" class=\"data row19 col1\" >2c27</td>\n",
              "    </tr>\n",
              "  </tbody>\n",
              "</table>\n"
            ]
          },
          "metadata": {}
        }
      ],
      "source": [
        "# import pycaret classification and init setup\n",
        "from pycaret.classification import *\n",
        "import pandas as pd\n",
        "\n",
        "# Load CSV file\n",
        "#data = pd.read_csv('/content/drive/MyDrive/DATASET-Aesthetix/curdata.csv')\n",
        "\n",
        "s = setup(df, target = 'class', session_id = 1)"
      ]
    },
    {
      "cell_type": "code",
      "source": [
        "# Compare models\n",
        "best_model = compare_models()"
      ],
      "metadata": {
        "colab": {
          "base_uri": "https://localhost:8080/",
          "height": 519,
          "referenced_widgets": [
            "53e4e63dbff946039befae50eb426af2",
            "777599ded73945a2a349c6c1d1ab9afe",
            "695a9c4784194c639b4ab7cb5236e0e9",
            "3a34f808411a4f7899fd2ada07302fd3",
            "1f911a437e6347bc97915c2bd2965baa",
            "802fc049c9904e29b6df264641019fb7",
            "ec067c231336428fa8cf02d51ce65c98",
            "a35c23187b7a41a9a2a2ff48b153618f",
            "81b2293a151941dbb7fcfea22f6e3b69",
            "1775805d70d14846b3f44fa36190c7d6",
            "57b781d079c2491180ca1144b432f977"
          ]
        },
        "id": "HWRDMen-7dW-",
        "outputId": "103098ce-6b22-4b17-bb9c-33892c8168f4"
      },
      "execution_count": 40,
      "outputs": [
        {
          "output_type": "display_data",
          "data": {
            "text/plain": [
              "<IPython.core.display.HTML object>"
            ],
            "text/html": []
          },
          "metadata": {}
        },
        {
          "output_type": "display_data",
          "data": {
            "text/plain": [
              "<pandas.io.formats.style.Styler at 0x7aceef3072b0>"
            ],
            "text/html": [
              "<style type=\"text/css\">\n",
              "#T_46a2d th {\n",
              "  text-align: left;\n",
              "}\n",
              "#T_46a2d_row0_col0, #T_46a2d_row1_col0, #T_46a2d_row2_col0, #T_46a2d_row3_col0, #T_46a2d_row4_col0, #T_46a2d_row5_col0, #T_46a2d_row6_col0, #T_46a2d_row7_col0, #T_46a2d_row8_col0, #T_46a2d_row9_col0, #T_46a2d_row10_col0, #T_46a2d_row11_col0, #T_46a2d_row11_col1, #T_46a2d_row11_col3, #T_46a2d_row11_col4, #T_46a2d_row11_col5, #T_46a2d_row11_col6, #T_46a2d_row11_col7, #T_46a2d_row12_col0, #T_46a2d_row12_col1, #T_46a2d_row12_col3, #T_46a2d_row12_col4, #T_46a2d_row12_col5, #T_46a2d_row12_col6, #T_46a2d_row12_col7, #T_46a2d_row13_col0, #T_46a2d_row13_col1, #T_46a2d_row13_col3, #T_46a2d_row13_col4, #T_46a2d_row13_col5, #T_46a2d_row13_col6, #T_46a2d_row13_col7, #T_46a2d_row14_col0, #T_46a2d_row14_col1, #T_46a2d_row14_col3, #T_46a2d_row14_col4, #T_46a2d_row14_col5, #T_46a2d_row14_col6, #T_46a2d_row14_col7 {\n",
              "  text-align: left;\n",
              "}\n",
              "#T_46a2d_row0_col1, #T_46a2d_row0_col2, #T_46a2d_row0_col3, #T_46a2d_row0_col4, #T_46a2d_row0_col5, #T_46a2d_row0_col6, #T_46a2d_row0_col7, #T_46a2d_row1_col1, #T_46a2d_row1_col2, #T_46a2d_row1_col3, #T_46a2d_row1_col4, #T_46a2d_row1_col5, #T_46a2d_row1_col6, #T_46a2d_row1_col7, #T_46a2d_row2_col1, #T_46a2d_row2_col2, #T_46a2d_row2_col3, #T_46a2d_row2_col4, #T_46a2d_row2_col5, #T_46a2d_row2_col6, #T_46a2d_row2_col7, #T_46a2d_row3_col1, #T_46a2d_row3_col2, #T_46a2d_row3_col3, #T_46a2d_row3_col4, #T_46a2d_row3_col5, #T_46a2d_row3_col6, #T_46a2d_row3_col7, #T_46a2d_row4_col1, #T_46a2d_row4_col2, #T_46a2d_row4_col3, #T_46a2d_row4_col4, #T_46a2d_row4_col5, #T_46a2d_row4_col6, #T_46a2d_row4_col7, #T_46a2d_row5_col1, #T_46a2d_row5_col2, #T_46a2d_row5_col3, #T_46a2d_row5_col4, #T_46a2d_row5_col5, #T_46a2d_row5_col6, #T_46a2d_row5_col7, #T_46a2d_row6_col1, #T_46a2d_row6_col2, #T_46a2d_row6_col3, #T_46a2d_row6_col4, #T_46a2d_row6_col5, #T_46a2d_row6_col6, #T_46a2d_row6_col7, #T_46a2d_row7_col1, #T_46a2d_row7_col2, #T_46a2d_row7_col3, #T_46a2d_row7_col4, #T_46a2d_row7_col5, #T_46a2d_row7_col6, #T_46a2d_row7_col7, #T_46a2d_row8_col1, #T_46a2d_row8_col2, #T_46a2d_row8_col3, #T_46a2d_row8_col4, #T_46a2d_row8_col5, #T_46a2d_row8_col6, #T_46a2d_row8_col7, #T_46a2d_row9_col1, #T_46a2d_row9_col2, #T_46a2d_row9_col3, #T_46a2d_row9_col4, #T_46a2d_row9_col5, #T_46a2d_row9_col6, #T_46a2d_row9_col7, #T_46a2d_row10_col1, #T_46a2d_row10_col2, #T_46a2d_row10_col3, #T_46a2d_row10_col4, #T_46a2d_row10_col5, #T_46a2d_row10_col6, #T_46a2d_row10_col7, #T_46a2d_row11_col2, #T_46a2d_row12_col2, #T_46a2d_row13_col2, #T_46a2d_row14_col2 {\n",
              "  text-align: left;\n",
              "  background-color: yellow;\n",
              "}\n",
              "#T_46a2d_row0_col8, #T_46a2d_row1_col8, #T_46a2d_row2_col8, #T_46a2d_row3_col8, #T_46a2d_row4_col8, #T_46a2d_row5_col8, #T_46a2d_row6_col8, #T_46a2d_row7_col8, #T_46a2d_row8_col8, #T_46a2d_row9_col8, #T_46a2d_row10_col8, #T_46a2d_row11_col8, #T_46a2d_row12_col8, #T_46a2d_row13_col8 {\n",
              "  text-align: left;\n",
              "  background-color: lightgrey;\n",
              "}\n",
              "#T_46a2d_row14_col8 {\n",
              "  text-align: left;\n",
              "  background-color: yellow;\n",
              "  background-color: lightgrey;\n",
              "}\n",
              "</style>\n",
              "<table id=\"T_46a2d\" class=\"dataframe\">\n",
              "  <thead>\n",
              "    <tr>\n",
              "      <th class=\"blank level0\" >&nbsp;</th>\n",
              "      <th id=\"T_46a2d_level0_col0\" class=\"col_heading level0 col0\" >Model</th>\n",
              "      <th id=\"T_46a2d_level0_col1\" class=\"col_heading level0 col1\" >Accuracy</th>\n",
              "      <th id=\"T_46a2d_level0_col2\" class=\"col_heading level0 col2\" >AUC</th>\n",
              "      <th id=\"T_46a2d_level0_col3\" class=\"col_heading level0 col3\" >Recall</th>\n",
              "      <th id=\"T_46a2d_level0_col4\" class=\"col_heading level0 col4\" >Prec.</th>\n",
              "      <th id=\"T_46a2d_level0_col5\" class=\"col_heading level0 col5\" >F1</th>\n",
              "      <th id=\"T_46a2d_level0_col6\" class=\"col_heading level0 col6\" >Kappa</th>\n",
              "      <th id=\"T_46a2d_level0_col7\" class=\"col_heading level0 col7\" >MCC</th>\n",
              "      <th id=\"T_46a2d_level0_col8\" class=\"col_heading level0 col8\" >TT (Sec)</th>\n",
              "    </tr>\n",
              "  </thead>\n",
              "  <tbody>\n",
              "    <tr>\n",
              "      <th id=\"T_46a2d_level0_row0\" class=\"row_heading level0 row0\" >lr</th>\n",
              "      <td id=\"T_46a2d_row0_col0\" class=\"data row0 col0\" >Logistic Regression</td>\n",
              "      <td id=\"T_46a2d_row0_col1\" class=\"data row0 col1\" >1.0000</td>\n",
              "      <td id=\"T_46a2d_row0_col2\" class=\"data row0 col2\" >0.0000</td>\n",
              "      <td id=\"T_46a2d_row0_col3\" class=\"data row0 col3\" >1.0000</td>\n",
              "      <td id=\"T_46a2d_row0_col4\" class=\"data row0 col4\" >1.0000</td>\n",
              "      <td id=\"T_46a2d_row0_col5\" class=\"data row0 col5\" >1.0000</td>\n",
              "      <td id=\"T_46a2d_row0_col6\" class=\"data row0 col6\" >1.0000</td>\n",
              "      <td id=\"T_46a2d_row0_col7\" class=\"data row0 col7\" >1.0000</td>\n",
              "      <td id=\"T_46a2d_row0_col8\" class=\"data row0 col8\" >1.5610</td>\n",
              "    </tr>\n",
              "    <tr>\n",
              "      <th id=\"T_46a2d_level0_row1\" class=\"row_heading level0 row1\" >knn</th>\n",
              "      <td id=\"T_46a2d_row1_col0\" class=\"data row1 col0\" >K Neighbors Classifier</td>\n",
              "      <td id=\"T_46a2d_row1_col1\" class=\"data row1 col1\" >1.0000</td>\n",
              "      <td id=\"T_46a2d_row1_col2\" class=\"data row1 col2\" >0.0000</td>\n",
              "      <td id=\"T_46a2d_row1_col3\" class=\"data row1 col3\" >1.0000</td>\n",
              "      <td id=\"T_46a2d_row1_col4\" class=\"data row1 col4\" >1.0000</td>\n",
              "      <td id=\"T_46a2d_row1_col5\" class=\"data row1 col5\" >1.0000</td>\n",
              "      <td id=\"T_46a2d_row1_col6\" class=\"data row1 col6\" >1.0000</td>\n",
              "      <td id=\"T_46a2d_row1_col7\" class=\"data row1 col7\" >1.0000</td>\n",
              "      <td id=\"T_46a2d_row1_col8\" class=\"data row1 col8\" >0.1490</td>\n",
              "    </tr>\n",
              "    <tr>\n",
              "      <th id=\"T_46a2d_level0_row2\" class=\"row_heading level0 row2\" >nb</th>\n",
              "      <td id=\"T_46a2d_row2_col0\" class=\"data row2 col0\" >Naive Bayes</td>\n",
              "      <td id=\"T_46a2d_row2_col1\" class=\"data row2 col1\" >1.0000</td>\n",
              "      <td id=\"T_46a2d_row2_col2\" class=\"data row2 col2\" >0.0000</td>\n",
              "      <td id=\"T_46a2d_row2_col3\" class=\"data row2 col3\" >1.0000</td>\n",
              "      <td id=\"T_46a2d_row2_col4\" class=\"data row2 col4\" >1.0000</td>\n",
              "      <td id=\"T_46a2d_row2_col5\" class=\"data row2 col5\" >1.0000</td>\n",
              "      <td id=\"T_46a2d_row2_col6\" class=\"data row2 col6\" >1.0000</td>\n",
              "      <td id=\"T_46a2d_row2_col7\" class=\"data row2 col7\" >1.0000</td>\n",
              "      <td id=\"T_46a2d_row2_col8\" class=\"data row2 col8\" >0.1280</td>\n",
              "    </tr>\n",
              "    <tr>\n",
              "      <th id=\"T_46a2d_level0_row3\" class=\"row_heading level0 row3\" >dt</th>\n",
              "      <td id=\"T_46a2d_row3_col0\" class=\"data row3 col0\" >Decision Tree Classifier</td>\n",
              "      <td id=\"T_46a2d_row3_col1\" class=\"data row3 col1\" >1.0000</td>\n",
              "      <td id=\"T_46a2d_row3_col2\" class=\"data row3 col2\" >0.0000</td>\n",
              "      <td id=\"T_46a2d_row3_col3\" class=\"data row3 col3\" >1.0000</td>\n",
              "      <td id=\"T_46a2d_row3_col4\" class=\"data row3 col4\" >1.0000</td>\n",
              "      <td id=\"T_46a2d_row3_col5\" class=\"data row3 col5\" >1.0000</td>\n",
              "      <td id=\"T_46a2d_row3_col6\" class=\"data row3 col6\" >1.0000</td>\n",
              "      <td id=\"T_46a2d_row3_col7\" class=\"data row3 col7\" >1.0000</td>\n",
              "      <td id=\"T_46a2d_row3_col8\" class=\"data row3 col8\" >0.0610</td>\n",
              "    </tr>\n",
              "    <tr>\n",
              "      <th id=\"T_46a2d_level0_row4\" class=\"row_heading level0 row4\" >ridge</th>\n",
              "      <td id=\"T_46a2d_row4_col0\" class=\"data row4 col0\" >Ridge Classifier</td>\n",
              "      <td id=\"T_46a2d_row4_col1\" class=\"data row4 col1\" >1.0000</td>\n",
              "      <td id=\"T_46a2d_row4_col2\" class=\"data row4 col2\" >0.0000</td>\n",
              "      <td id=\"T_46a2d_row4_col3\" class=\"data row4 col3\" >1.0000</td>\n",
              "      <td id=\"T_46a2d_row4_col4\" class=\"data row4 col4\" >1.0000</td>\n",
              "      <td id=\"T_46a2d_row4_col5\" class=\"data row4 col5\" >1.0000</td>\n",
              "      <td id=\"T_46a2d_row4_col6\" class=\"data row4 col6\" >1.0000</td>\n",
              "      <td id=\"T_46a2d_row4_col7\" class=\"data row4 col7\" >1.0000</td>\n",
              "      <td id=\"T_46a2d_row4_col8\" class=\"data row4 col8\" >0.0830</td>\n",
              "    </tr>\n",
              "    <tr>\n",
              "      <th id=\"T_46a2d_level0_row5\" class=\"row_heading level0 row5\" >rf</th>\n",
              "      <td id=\"T_46a2d_row5_col0\" class=\"data row5 col0\" >Random Forest Classifier</td>\n",
              "      <td id=\"T_46a2d_row5_col1\" class=\"data row5 col1\" >1.0000</td>\n",
              "      <td id=\"T_46a2d_row5_col2\" class=\"data row5 col2\" >0.0000</td>\n",
              "      <td id=\"T_46a2d_row5_col3\" class=\"data row5 col3\" >1.0000</td>\n",
              "      <td id=\"T_46a2d_row5_col4\" class=\"data row5 col4\" >1.0000</td>\n",
              "      <td id=\"T_46a2d_row5_col5\" class=\"data row5 col5\" >1.0000</td>\n",
              "      <td id=\"T_46a2d_row5_col6\" class=\"data row5 col6\" >1.0000</td>\n",
              "      <td id=\"T_46a2d_row5_col7\" class=\"data row5 col7\" >1.0000</td>\n",
              "      <td id=\"T_46a2d_row5_col8\" class=\"data row5 col8\" >0.3750</td>\n",
              "    </tr>\n",
              "    <tr>\n",
              "      <th id=\"T_46a2d_level0_row6\" class=\"row_heading level0 row6\" >qda</th>\n",
              "      <td id=\"T_46a2d_row6_col0\" class=\"data row6 col0\" >Quadratic Discriminant Analysis</td>\n",
              "      <td id=\"T_46a2d_row6_col1\" class=\"data row6 col1\" >1.0000</td>\n",
              "      <td id=\"T_46a2d_row6_col2\" class=\"data row6 col2\" >0.0000</td>\n",
              "      <td id=\"T_46a2d_row6_col3\" class=\"data row6 col3\" >1.0000</td>\n",
              "      <td id=\"T_46a2d_row6_col4\" class=\"data row6 col4\" >1.0000</td>\n",
              "      <td id=\"T_46a2d_row6_col5\" class=\"data row6 col5\" >1.0000</td>\n",
              "      <td id=\"T_46a2d_row6_col6\" class=\"data row6 col6\" >1.0000</td>\n",
              "      <td id=\"T_46a2d_row6_col7\" class=\"data row6 col7\" >1.0000</td>\n",
              "      <td id=\"T_46a2d_row6_col8\" class=\"data row6 col8\" >0.0740</td>\n",
              "    </tr>\n",
              "    <tr>\n",
              "      <th id=\"T_46a2d_level0_row7\" class=\"row_heading level0 row7\" >ada</th>\n",
              "      <td id=\"T_46a2d_row7_col0\" class=\"data row7 col0\" >Ada Boost Classifier</td>\n",
              "      <td id=\"T_46a2d_row7_col1\" class=\"data row7 col1\" >1.0000</td>\n",
              "      <td id=\"T_46a2d_row7_col2\" class=\"data row7 col2\" >0.0000</td>\n",
              "      <td id=\"T_46a2d_row7_col3\" class=\"data row7 col3\" >1.0000</td>\n",
              "      <td id=\"T_46a2d_row7_col4\" class=\"data row7 col4\" >1.0000</td>\n",
              "      <td id=\"T_46a2d_row7_col5\" class=\"data row7 col5\" >1.0000</td>\n",
              "      <td id=\"T_46a2d_row7_col6\" class=\"data row7 col6\" >1.0000</td>\n",
              "      <td id=\"T_46a2d_row7_col7\" class=\"data row7 col7\" >1.0000</td>\n",
              "      <td id=\"T_46a2d_row7_col8\" class=\"data row7 col8\" >0.0570</td>\n",
              "    </tr>\n",
              "    <tr>\n",
              "      <th id=\"T_46a2d_level0_row8\" class=\"row_heading level0 row8\" >gbc</th>\n",
              "      <td id=\"T_46a2d_row8_col0\" class=\"data row8 col0\" >Gradient Boosting Classifier</td>\n",
              "      <td id=\"T_46a2d_row8_col1\" class=\"data row8 col1\" >1.0000</td>\n",
              "      <td id=\"T_46a2d_row8_col2\" class=\"data row8 col2\" >0.0000</td>\n",
              "      <td id=\"T_46a2d_row8_col3\" class=\"data row8 col3\" >1.0000</td>\n",
              "      <td id=\"T_46a2d_row8_col4\" class=\"data row8 col4\" >1.0000</td>\n",
              "      <td id=\"T_46a2d_row8_col5\" class=\"data row8 col5\" >1.0000</td>\n",
              "      <td id=\"T_46a2d_row8_col6\" class=\"data row8 col6\" >1.0000</td>\n",
              "      <td id=\"T_46a2d_row8_col7\" class=\"data row8 col7\" >1.0000</td>\n",
              "      <td id=\"T_46a2d_row8_col8\" class=\"data row8 col8\" >0.2910</td>\n",
              "    </tr>\n",
              "    <tr>\n",
              "      <th id=\"T_46a2d_level0_row9\" class=\"row_heading level0 row9\" >lda</th>\n",
              "      <td id=\"T_46a2d_row9_col0\" class=\"data row9 col0\" >Linear Discriminant Analysis</td>\n",
              "      <td id=\"T_46a2d_row9_col1\" class=\"data row9 col1\" >1.0000</td>\n",
              "      <td id=\"T_46a2d_row9_col2\" class=\"data row9 col2\" >0.0000</td>\n",
              "      <td id=\"T_46a2d_row9_col3\" class=\"data row9 col3\" >1.0000</td>\n",
              "      <td id=\"T_46a2d_row9_col4\" class=\"data row9 col4\" >1.0000</td>\n",
              "      <td id=\"T_46a2d_row9_col5\" class=\"data row9 col5\" >1.0000</td>\n",
              "      <td id=\"T_46a2d_row9_col6\" class=\"data row9 col6\" >1.0000</td>\n",
              "      <td id=\"T_46a2d_row9_col7\" class=\"data row9 col7\" >1.0000</td>\n",
              "      <td id=\"T_46a2d_row9_col8\" class=\"data row9 col8\" >0.0680</td>\n",
              "    </tr>\n",
              "    <tr>\n",
              "      <th id=\"T_46a2d_level0_row10\" class=\"row_heading level0 row10\" >et</th>\n",
              "      <td id=\"T_46a2d_row10_col0\" class=\"data row10 col0\" >Extra Trees Classifier</td>\n",
              "      <td id=\"T_46a2d_row10_col1\" class=\"data row10 col1\" >1.0000</td>\n",
              "      <td id=\"T_46a2d_row10_col2\" class=\"data row10 col2\" >0.0000</td>\n",
              "      <td id=\"T_46a2d_row10_col3\" class=\"data row10 col3\" >1.0000</td>\n",
              "      <td id=\"T_46a2d_row10_col4\" class=\"data row10 col4\" >1.0000</td>\n",
              "      <td id=\"T_46a2d_row10_col5\" class=\"data row10 col5\" >1.0000</td>\n",
              "      <td id=\"T_46a2d_row10_col6\" class=\"data row10 col6\" >1.0000</td>\n",
              "      <td id=\"T_46a2d_row10_col7\" class=\"data row10 col7\" >1.0000</td>\n",
              "      <td id=\"T_46a2d_row10_col8\" class=\"data row10 col8\" >0.1510</td>\n",
              "    </tr>\n",
              "    <tr>\n",
              "      <th id=\"T_46a2d_level0_row11\" class=\"row_heading level0 row11\" >xgboost</th>\n",
              "      <td id=\"T_46a2d_row11_col0\" class=\"data row11 col0\" >Extreme Gradient Boosting</td>\n",
              "      <td id=\"T_46a2d_row11_col1\" class=\"data row11 col1\" >0.9667</td>\n",
              "      <td id=\"T_46a2d_row11_col2\" class=\"data row11 col2\" >0.0000</td>\n",
              "      <td id=\"T_46a2d_row11_col3\" class=\"data row11 col3\" >0.9667</td>\n",
              "      <td id=\"T_46a2d_row11_col4\" class=\"data row11 col4\" >0.9444</td>\n",
              "      <td id=\"T_46a2d_row11_col5\" class=\"data row11 col5\" >0.9533</td>\n",
              "      <td id=\"T_46a2d_row11_col6\" class=\"data row11 col6\" >0.9000</td>\n",
              "      <td id=\"T_46a2d_row11_col7\" class=\"data row11 col7\" >0.9000</td>\n",
              "      <td id=\"T_46a2d_row11_col8\" class=\"data row11 col8\" >0.0520</td>\n",
              "    </tr>\n",
              "    <tr>\n",
              "      <th id=\"T_46a2d_level0_row12\" class=\"row_heading level0 row12\" >svm</th>\n",
              "      <td id=\"T_46a2d_row12_col0\" class=\"data row12 col0\" >SVM - Linear Kernel</td>\n",
              "      <td id=\"T_46a2d_row12_col1\" class=\"data row12 col1\" >0.5167</td>\n",
              "      <td id=\"T_46a2d_row12_col2\" class=\"data row12 col2\" >0.0000</td>\n",
              "      <td id=\"T_46a2d_row12_col3\" class=\"data row12 col3\" >0.5167</td>\n",
              "      <td id=\"T_46a2d_row12_col4\" class=\"data row12 col4\" >0.4139</td>\n",
              "      <td id=\"T_46a2d_row12_col5\" class=\"data row12 col5\" >0.4200</td>\n",
              "      <td id=\"T_46a2d_row12_col6\" class=\"data row12 col6\" >0.1300</td>\n",
              "      <td id=\"T_46a2d_row12_col7\" class=\"data row12 col7\" >0.1500</td>\n",
              "      <td id=\"T_46a2d_row12_col8\" class=\"data row12 col8\" >0.0530</td>\n",
              "    </tr>\n",
              "    <tr>\n",
              "      <th id=\"T_46a2d_level0_row13\" class=\"row_heading level0 row13\" >lightgbm</th>\n",
              "      <td id=\"T_46a2d_row13_col0\" class=\"data row13 col0\" >Light Gradient Boosting Machine</td>\n",
              "      <td id=\"T_46a2d_row13_col1\" class=\"data row13 col1\" >0.5167</td>\n",
              "      <td id=\"T_46a2d_row13_col2\" class=\"data row13 col2\" >0.0000</td>\n",
              "      <td id=\"T_46a2d_row13_col3\" class=\"data row13 col3\" >0.5167</td>\n",
              "      <td id=\"T_46a2d_row13_col4\" class=\"data row13 col4\" >0.2917</td>\n",
              "      <td id=\"T_46a2d_row13_col5\" class=\"data row13 col5\" >0.3667</td>\n",
              "      <td id=\"T_46a2d_row13_col6\" class=\"data row13 col6\" >0.0000</td>\n",
              "      <td id=\"T_46a2d_row13_col7\" class=\"data row13 col7\" >0.0000</td>\n",
              "      <td id=\"T_46a2d_row13_col8\" class=\"data row13 col8\" >0.1890</td>\n",
              "    </tr>\n",
              "    <tr>\n",
              "      <th id=\"T_46a2d_level0_row14\" class=\"row_heading level0 row14\" >dummy</th>\n",
              "      <td id=\"T_46a2d_row14_col0\" class=\"data row14 col0\" >Dummy Classifier</td>\n",
              "      <td id=\"T_46a2d_row14_col1\" class=\"data row14 col1\" >0.5167</td>\n",
              "      <td id=\"T_46a2d_row14_col2\" class=\"data row14 col2\" >0.0000</td>\n",
              "      <td id=\"T_46a2d_row14_col3\" class=\"data row14 col3\" >0.5167</td>\n",
              "      <td id=\"T_46a2d_row14_col4\" class=\"data row14 col4\" >0.2917</td>\n",
              "      <td id=\"T_46a2d_row14_col5\" class=\"data row14 col5\" >0.3667</td>\n",
              "      <td id=\"T_46a2d_row14_col6\" class=\"data row14 col6\" >0.0000</td>\n",
              "      <td id=\"T_46a2d_row14_col7\" class=\"data row14 col7\" >0.0000</td>\n",
              "      <td id=\"T_46a2d_row14_col8\" class=\"data row14 col8\" >0.0330</td>\n",
              "    </tr>\n",
              "  </tbody>\n",
              "</table>\n"
            ]
          },
          "metadata": {}
        },
        {
          "output_type": "display_data",
          "data": {
            "text/plain": [
              "Processing:   0%|          | 0/65 [00:00<?, ?it/s]"
            ],
            "application/vnd.jupyter.widget-view+json": {
              "version_major": 2,
              "version_minor": 0,
              "model_id": "53e4e63dbff946039befae50eb426af2"
            }
          },
          "metadata": {
            "application/vnd.jupyter.widget-view+json": {
              "colab": {
                "custom_widget_manager": {
                  "url": "https://ssl.gstatic.com/colaboratory-static/widgets/colab-cdn-widget-manager/2b70e893a8ba7c0f/manager.min.js"
                }
              }
            }
          }
        },
        {
          "output_type": "display_data",
          "data": {
            "text/plain": [
              "<IPython.core.display.HTML object>"
            ],
            "text/html": []
          },
          "metadata": {}
        }
      ]
    },
    {
      "cell_type": "code",
      "execution_count": 41,
      "metadata": {
        "id": "ryTqLH_wZgjH",
        "colab": {
          "base_uri": "https://localhost:8080/",
          "height": 551
        },
        "outputId": "cedb8708-f027-4c2e-870d-7c3cd5a3430c"
      },
      "outputs": [
        {
          "output_type": "display_data",
          "data": {
            "text/plain": [
              "<IPython.core.display.HTML object>"
            ],
            "text/html": []
          },
          "metadata": {}
        },
        {
          "output_type": "display_data",
          "data": {
            "text/plain": [
              "<Figure size 800x550 with 1 Axes>"
            ],
            "image/png": "[encoded data removed]"
          },
          "metadata": {}
        }
      ],
      "source": [
        "# plot confusion matrix of the best model\n",
        "plot_model(best_model, plot = 'confusion_matrix')"
      ]
    },
    {
      "cell_type": "code",
      "execution_count": 42,
      "metadata": {
        "id": "TQ-JpHzObMX3",
        "colab": {
          "base_uri": "https://localhost:8080/",
          "height": 674,
          "referenced_widgets": [
            "ca1b99abff134a2fb3cf58bdd075d7ed",
            "f7ea251c41e54d88900c5a4e38259cb1",
            "aaf7c628c3eb4df69aeb7cf67fd62066",
            "2f01137a135b459880ebe93af866b6ba",
            "5ad78b9e0b0940f7a2577cd9ad85b72e",
            "9e1b0c6422104161aa4fe87cef77e51d",
            "b6816ba88a8540e0a15b0918d0b5d956"
          ]
        },
        "outputId": "e2c01acc-7b6a-4c64-de22-11d0892cbcd7"
      },
      "outputs": [
        {
          "output_type": "display_data",
          "data": {
            "text/plain": [
              "interactive(children=(ToggleButtons(description='Plot Type:', icons=('',), options=(('Pipeline Plot', 'pipelin…"
            ],
            "application/vnd.jupyter.widget-view+json": {
              "version_major": 2,
              "version_minor": 0,
              "model_id": "ca1b99abff134a2fb3cf58bdd075d7ed"
            }
          },
          "metadata": {
            "application/vnd.jupyter.widget-view+json": {
              "colab": {
                "custom_widget_manager": {
                  "url": "https://ssl.gstatic.com/colaboratory-static/widgets/colab-cdn-widget-manager/2b70e893a8ba7c0f/manager.min.js"
                }
              }
            }
          }
        }
      ],
      "source": [
        "evaluate_model(best_model)"
      ]
    },
    {
      "cell_type": "code",
      "source": [
        "# Save the best model\n",
        "save_model(best_model, 'rf_model')\n",
        "print(\"Best model saved successfully.\")"
      ],
      "metadata": {
        "colab": {
          "base_uri": "https://localhost:8080/"
        },
        "id": "MfGGXUmTjbRg",
        "outputId": "1f40c584-afd1-472e-fbae-daa00b514fb6"
      },
      "execution_count": 43,
      "outputs": [
        {
          "output_type": "stream",
          "name": "stdout",
          "text": [
            "Transformation Pipeline and Model Successfully Saved\n",
            "Best model saved successfully.\n"
          ]
        }
      ]
    },
    {
      "cell_type": "code",
      "source": [
        "# Load the saved model\n",
        "saved_model = load_model('rf_model')"
      ],
      "metadata": {
        "colab": {
          "base_uri": "https://localhost:8080/"
        },
        "id": "K97BXzQajdf_",
        "outputId": "084721ae-1c1a-4c81-9bb4-a6a8042bddc1"
      },
      "execution_count": 44,
      "outputs": [
        {
          "output_type": "stream",
          "name": "stdout",
          "text": [
            "Transformation Pipeline and Model Successfully Loaded\n"
          ]
        }
      ]
    },
    {
      "cell_type": "code",
      "source": [
        "# # Read the image from the laptop\n",
        "# file_path = '/content/drive/MyDrive/DATASET-Aesthetix/image_classification/FSML/lemon/1439-2.jpg'  # Replace this with the path to your image file\n",
        "# im = cv2.imread(file_path)"
      ],
      "metadata": {
        "id": "6FyDm5V-zLQP"
      },
      "execution_count": 45,
      "outputs": []
    },
    {
      "cell_type": "code",
      "source": [
        "import cv2\n",
        "import pandas as pd\n",
        "import numpy as np\n",
        "from google.colab import files\n",
        "\n",
        "# Function to extract features from the image\n",
        "def extract_features(image):\n",
        "    # calculates the mean separately for each color channel (R, G, B) across all rows and columns.\n",
        "    # resulting output is a 1-dimensional array containing the mean values of each color channel across the entire image.\n",
        "    return image.mean(axis=(0, 1))\n",
        "\n",
        "# Upload multiple images\n",
        "uploaded_files = files.upload()\n",
        "\n",
        "# Initialize an empty list to store extracted features for all images\n",
        "all_features = []\n",
        "\n",
        "# Iterate over each uploaded image\n",
        "for file_name, file_data in uploaded_files.items():\n",
        "    # Read the image from the uploaded file content\n",
        "\n",
        "    #converts the binary image data into a format that can be interpreted and manipulated using NumPy.\n",
        "    nparr = np.frombuffer(file_data, np.uint8)\n",
        "\n",
        "    # decodes it into an image format that OpenCV can work with\n",
        "    im = cv2.imdecode(nparr, cv2.IMREAD_COLOR)\n",
        "\n",
        "    # Convert the image to RGB format\n",
        "    im = cv2.cvtColor(im, cv2.COLOR_BGR2RGB)\n",
        "\n",
        "    # Extract features from the image\n",
        "    features = extract_features(im)\n",
        "\n",
        "    # Append features to the list\n",
        "    all_features.append(features)\n",
        "\n",
        "# Create a DataFrame with R, G, and B values for all images\n",
        "new_data = pd.DataFrame(all_features, columns=['R', 'G', 'B'])\n",
        "\n",
        "print(\"New data with R, G, B values for all images:\")\n",
        "print(new_data)\n"
      ],
      "metadata": {
        "colab": {
          "base_uri": "https://localhost:8080/",
          "height": 339
        },
        "id": "pWXzQnpH2Xar",
        "outputId": "ac2afaaa-40a5-412d-c608-ab0d14dfa113"
      },
      "execution_count": 46,
      "outputs": [
        {
          "output_type": "display_data",
          "data": {
            "text/plain": [
              "<IPython.core.display.HTML object>"
            ],
            "text/html": [
              "\n",
              "     <input type=\"file\" id=\"files-43fec82e-b303-4865-bc96-59dc439607b8\" name=\"files[]\" multiple disabled\n",
              "        style=\"border:none\" />\n",
              "     <output id=\"result-43fec82e-b303-4865-bc96-59dc439607b8\">\n",
              "      Upload widget is only available when the cell has been executed in the\n",
              "      current browser session. Please rerun this cell to enable.\n",
              "      </output>\n",
              "      <script>// Copyright 2017 Google LLC\n",
              "//\n",
              "// Licensed under the Apache License, Version 2.0 (the \"License\");\n",
              "// you may not use this file except in compliance with the License.\n",
              "// You may obtain a copy of the License at\n",
              "//\n",
              "//      http://www.apache.org/licenses/LICENSE-2.0\n",
              "//\n",
              "// Unless required by applicable law or agreed to in writing, software\n",
              "// distributed under the License is distributed on an \"AS IS\" BASIS,\n",
              "// WITHOUT WARRANTIES OR CONDITIONS OF ANY KIND, either express or implied.\n",
              "// See the License for the specific language governing permissions and\n",
              "// limitations under the License.\n",
              "\n",
              "/**\n",
              " * @fileoverview Helpers for google.colab Python module.\n",
              " */\n",
              "(function(scope) {\n",
              "function span(text, styleAttributes = {}) {\n",
              "  const element = document.createElement('span');\n",
              "  element.textContent = text;\n",
              "  for (const key of Object.keys(styleAttributes)) {\n",
              "    element.style[key] = styleAttributes[key];\n",
              "  }\n",
              "  return element;\n",
              "}\n",
              "\n",
              "// Max number of bytes which will be uploaded at a time.\n",
              "const MAX_PAYLOAD_SIZE = 100 * 1024;\n",
              "\n",
              "function _uploadFiles(inputId, outputId) {\n",
              "  const steps = uploadFilesStep(inputId, outputId);\n",
              "  const outputElement = document.getElementById(outputId);\n",
              "  // Cache steps on the outputElement to make it available for the next call\n",
              "  // to uploadFilesContinue from Python.\n",
              "  outputElement.steps = steps;\n",
              "\n",
              "  return _uploadFilesContinue(outputId);\n",
              "}\n",
              "\n",
              "// This is roughly an async generator (not supported in the browser yet),\n",
              "// where there are multiple asynchronous steps and the Python side is going\n",
              "// to poll for completion of each step.\n",
              "// This uses a Promise to block the python side on completion of each step,\n",
              "// then passes the result of the previous step as the input to the next step.\n",
              "function _uploadFilesContinue(outputId) {\n",
              "  const outputElement = document.getElementById(outputId);\n",
              "  const steps = outputElement.steps;\n",
              "\n",
              "  const next = steps.next(outputElement.lastPromiseValue);\n",
              "  return Promise.resolve(next.value.promise).then((value) => {\n",
              "    // Cache the last promise value to make it available to the next\n",
              "    // step of the generator.\n",
              "    outputElement.lastPromiseValue = value;\n",
              "    return next.value.response;\n",
              "  });\n",
              "}\n",
              "\n",
              "/**\n",
              " * Generator function which is called between each async step of the upload\n",
              " * process.\n",
              " * @param {string} inputId Element ID of the input file picker element.\n",
              " * @param {string} outputId Element ID of the output display.\n",
              " * @return {!Iterable<!Object>} Iterable of next steps.\n",
              " */\n",
              "function* uploadFilesStep(inputId, outputId) {\n",
              "  const inputElement = document.getElementById(inputId);\n",
              "  inputElement.disabled = false;\n",
              "\n",
              "  const outputElement = document.getElementById(outputId);\n",
              "  outputElement.innerHTML = '';\n",
              "\n",
              "  const pickedPromise = new Promise((resolve) => {\n",
              "    inputElement.addEventListener('change', (e) => {\n",
              "      resolve(e.target.files);\n",
              "    });\n",
              "  });\n",
              "\n",
              "  const cancel = document.createElement('button');\n",
              "  inputElement.parentElement.appendChild(cancel);\n",
              "  cancel.textContent = 'Cancel upload';\n",
              "  const cancelPromise = new Promise((resolve) => {\n",
              "    cancel.onclick = () => {\n",
              "      resolve(null);\n",
              "    };\n",
              "  });\n",
              "\n",
              "  // Wait for the user to pick the files.\n",
              "  const files = yield {\n",
              "    promise: Promise.race([pickedPromise, cancelPromise]),\n",
              "    response: {\n",
              "      action: 'starting',\n",
              "    }\n",
              "  };\n",
              "\n",
              "  cancel.remove();\n",
              "\n",
              "  // Disable the input element since further picks are not allowed.\n",
              "  inputElement.disabled = true;\n",
              "\n",
              "  if (!files) {\n",
              "    return {\n",
              "      response: {\n",
              "        action: 'complete',\n",
              "      }\n",
              "    };\n",
              "  }\n",
              "\n",
              "  for (const file of files) {\n",
              "    const li = document.createElement('li');\n",
              "    li.append(span(file.name, {fontWeight: 'bold'}));\n",
              "    li.append(span(\n",
              "        `(${file.type || 'n/a'}) - ${file.size} bytes, ` +\n",
              "        `last modified: ${\n",
              "            file.lastModifiedDate ? file.lastModifiedDate.toLocaleDateString() :\n",
              "                                    'n/a'} - `));\n",
              "    const percent = span('0% done');\n",
              "    li.appendChild(percent);\n",
              "\n",
              "    outputElement.appendChild(li);\n",
              "\n",
              "    const fileDataPromise = new Promise((resolve) => {\n",
              "      const reader = new FileReader();\n",
              "      reader.onload = (e) => {\n",
              "        resolve(e.target.result);\n",
              "      };\n",
              "      reader.readAsArrayBuffer(file);\n",
              "    });\n",
              "    // Wait for the data to be ready.\n",
              "    let fileData = yield {\n",
              "      promise: fileDataPromise,\n",
              "      response: {\n",
              "        action: 'continue',\n",
              "      }\n",
              "    };\n",
              "\n",
              "    // Use a chunked sending to avoid message size limits. See b/62115660.\n",
              "    let position = 0;\n",
              "    do {\n",
              "      const length = Math.min(fileData.byteLength - position, MAX_PAYLOAD_SIZE);\n",
              "      const chunk = new Uint8Array(fileData, position, length);\n",
              "      position += length;\n",
              "\n",
              "      const base64 = btoa(String.fromCharCode.apply(null, chunk));\n",
              "      yield {\n",
              "        response: {\n",
              "          action: 'append',\n",
              "          file: file.name,\n",
              "          data: base64,\n",
              "        },\n",
              "      };\n",
              "\n",
              "      let percentDone = fileData.byteLength === 0 ?\n",
              "          100 :\n",
              "          Math.round((position / fileData.byteLength) * 100);\n",
              "      percent.textContent = `${percentDone}% done`;\n",
              "\n",
              "    } while (position < fileData.byteLength);\n",
              "  }\n",
              "\n",
              "  // All done.\n",
              "  yield {\n",
              "    response: {\n",
              "      action: 'complete',\n",
              "    }\n",
              "  };\n",
              "}\n",
              "\n",
              "scope.google = scope.google || {};\n",
              "scope.google.colab = scope.google.colab || {};\n",
              "scope.google.colab._files = {\n",
              "  _uploadFiles,\n",
              "  _uploadFilesContinue,\n",
              "};\n",
              "})(self);\n",
              "</script> "
            ]
          },
          "metadata": {}
        },
        {
          "output_type": "stream",
          "name": "stdout",
          "text": [
            "Saving 2.jpg to 2 (1).jpg\n",
            "Saving 2_1212685_e.jpg to 2_1212685_e.jpg\n",
            "Saving 3.jpg to 3.jpg\n",
            "Saving 4.jpg to 4.jpg\n",
            "Saving 5.jpg to 5.jpg\n",
            "New data with R, G, B values for all images:\n",
            "            R           G           B\n",
            "0  199.091488  173.718730  156.212222\n",
            "1  197.159508  180.733692  164.102694\n",
            "2  191.589526  189.288963  163.065871\n",
            "3  167.804247  185.986963  154.679269\n",
            "4  189.831434  166.855868  138.575142\n"
          ]
        }
      ]
    },
    {
      "cell_type": "code",
      "source": [
        "# # Create a DataFrame with new data\n",
        "# new_data = pd.DataFrame({\n",
        "#     'R': [148.11437037037038],\n",
        "#     'G': [129.7312],\n",
        "#     'B': [84.09592098765432]\n",
        "# })\n",
        "\n",
        "# Load the saved model\n",
        "saved_model = load_model('rf_model')  # Assuming 'rf_model' is the name of the saved model\n",
        "\n",
        "# Use the loaded model for predictions\n",
        "predictions = predict_model(saved_model, data=new_data)\n",
        "\n",
        "print(predictions)\n"
      ],
      "metadata": {
        "colab": {
          "base_uri": "https://localhost:8080/",
          "height": 142
        },
        "id": "z9EWhX5dsJL7",
        "outputId": "9b2dc50e-4214-47b2-e1c5-e7b6ea155d91"
      },
      "execution_count": 48,
      "outputs": [
        {
          "output_type": "stream",
          "name": "stdout",
          "text": [
            "Transformation Pipeline and Model Successfully Loaded\n"
          ]
        },
        {
          "output_type": "display_data",
          "data": {
            "text/plain": [
              "<IPython.core.display.HTML object>"
            ],
            "text/html": []
          },
          "metadata": {}
        },
        {
          "output_type": "stream",
          "name": "stdout",
          "text": [
            "            R           G           B prediction_label  prediction_score\n",
            "0  199.091492  173.718735  156.212219            melon            0.9997\n",
            "1  197.159515  180.733688  164.102692            melon            0.9991\n",
            "2  191.589523  189.288971  163.065872            melon            0.9986\n",
            "3  167.804245  185.986969  154.679276            melon            1.0000\n",
            "4  189.831436  166.855865  138.575150            melon            1.0000\n"
          ]
        }
      ]
    }
  ],
  "metadata": {
    "colab": {
      "provenance": []
    },
    "kernelspec": {
      "display_name": "Python 3",
      "name": "python3"
    },
    "language_info": {
      "name": "python"
    },
    "widgets": {
      "application/vnd.jupyter.widget-state+json": {
        "53e4e63dbff946039befae50eb426af2": {
          "model_module": "@jupyter-widgets/controls",
          "model_name": "HBoxModel",
          "model_module_version": "1.5.0",
          "state": {
            "_dom_classes": [],
            "_model_module": "@jupyter-widgets/controls",
            "_model_module_version": "1.5.0",
            "_model_name": "HBoxModel",
            "_view_count": null,
            "_view_module": "@jupyter-widgets/controls",
            "_view_module_version": "1.5.0",
            "_view_name": "HBoxView",
            "box_style": "",
            "children": [
              "IPY_MODEL_777599ded73945a2a349c6c1d1ab9afe",
              "IPY_MODEL_695a9c4784194c639b4ab7cb5236e0e9",
              "IPY_MODEL_3a34f808411a4f7899fd2ada07302fd3"
            ],
            "layout": "IPY_MODEL_1f911a437e6347bc97915c2bd2965baa"
          }
        },
        "777599ded73945a2a349c6c1d1ab9afe": {
          "model_module": "@jupyter-widgets/controls",
          "model_name": "HTMLModel",
          "model_module_version": "1.5.0",
          "state": {
            "_dom_classes": [],
            "_model_module": "@jupyter-widgets/controls",
            "_model_module_version": "1.5.0",
            "_model_name": "HTMLModel",
            "_view_count": null,
            "_view_module": "@jupyter-widgets/controls",
            "_view_module_version": "1.5.0",
            "_view_name": "HTMLView",
            "description": "",
            "description_tooltip": null,
            "layout": "IPY_MODEL_802fc049c9904e29b6df264641019fb7",
            "placeholder": "​",
            "style": "IPY_MODEL_ec067c231336428fa8cf02d51ce65c98",
            "value": "Processing: 100%"
          }
        },
        "695a9c4784194c639b4ab7cb5236e0e9": {
          "model_module": "@jupyter-widgets/controls",
          "model_name": "FloatProgressModel",
          "model_module_version": "1.5.0",
          "state": {
            "_dom_classes": [],
            "_model_module": "@jupyter-widgets/controls",
            "_model_module_version": "1.5.0",
            "_model_name": "FloatProgressModel",
            "_view_count": null,
            "_view_module": "@jupyter-widgets/controls",
            "_view_module_version": "1.5.0",
            "_view_name": "ProgressView",
            "bar_style": "",
            "description": "",
            "description_tooltip": null,
            "layout": "IPY_MODEL_a35c23187b7a41a9a2a2ff48b153618f",
            "max": 65,
            "min": 0,
            "orientation": "horizontal",
            "style": "IPY_MODEL_81b2293a151941dbb7fcfea22f6e3b69",
            "value": 65
          }
        },
        "3a34f808411a4f7899fd2ada07302fd3": {
          "model_module": "@jupyter-widgets/controls",
          "model_name": "HTMLModel",
          "model_module_version": "1.5.0",
          "state": {
            "_dom_classes": [],
            "_model_module": "@jupyter-widgets/controls",
            "_model_module_version": "1.5.0",
            "_model_name": "HTMLModel",
            "_view_count": null,
            "_view_module": "@jupyter-widgets/controls",
            "_view_module_version": "1.5.0",
            "_view_name": "HTMLView",
            "description": "",
            "description_tooltip": null,
            "layout": "IPY_MODEL_1775805d70d14846b3f44fa36190c7d6",
            "placeholder": "​",
            "style": "IPY_MODEL_57b781d079c2491180ca1144b432f977",
            "value": " 65/65 [00:40&lt;00:00,  4.53it/s]"
          }
        },
        "1f911a437e6347bc97915c2bd2965baa": {
          "model_module": "@jupyter-widgets/base",
          "model_name": "LayoutModel",
          "model_module_version": "1.2.0",
          "state": {
            "_model_module": "@jupyter-widgets/base",
            "_model_module_version": "1.2.0",
            "_model_name": "LayoutModel",
            "_view_count": null,
            "_view_module": "@jupyter-widgets/base",
            "_view_module_version": "1.2.0",
            "_view_name": "LayoutView",
            "align_content": null,
            "align_items": null,
            "align_self": null,
            "border": null,
            "bottom": null,
            "display": null,
            "flex": null,
            "flex_flow": null,
            "grid_area": null,
            "grid_auto_columns": null,
            "grid_auto_flow": null,
            "grid_auto_rows": null,
            "grid_column": null,
            "grid_gap": null,
            "grid_row": null,
            "grid_template_areas": null,
            "grid_template_columns": null,
            "grid_template_rows": null,
            "height": null,
            "justify_content": null,
            "justify_items": null,
            "left": null,
            "margin": null,
            "max_height": null,
            "max_width": null,
            "min_height": null,
            "min_width": null,
            "object_fit": null,
            "object_position": null,
            "order": null,
            "overflow": null,
            "overflow_x": null,
            "overflow_y": null,
            "padding": null,
            "right": null,
            "top": null,
            "visibility": "hidden",
            "width": null
          }
        },
        "802fc049c9904e29b6df264641019fb7": {
          "model_module": "@jupyter-widgets/base",
          "model_name": "LayoutModel",
          "model_module_version": "1.2.0",
          "state": {
            "_model_module": "@jupyter-widgets/base",
            "_model_module_version": "1.2.0",
            "_model_name": "LayoutModel",
            "_view_count": null,
            "_view_module": "@jupyter-widgets/base",
            "_view_module_version": "1.2.0",
            "_view_name": "LayoutView",
            "align_content": null,
            "align_items": null,
            "align_self": null,
            "border": null,
            "bottom": null,
            "display": null,
            "flex": null,
            "flex_flow": null,
            "grid_area": null,
            "grid_auto_columns": null,
            "grid_auto_flow": null,
            "grid_auto_rows": null,
            "grid_column": null,
            "grid_gap": null,
            "grid_row": null,
            "grid_template_areas": null,
            "grid_template_columns": null,
            "grid_template_rows": null,
            "height": null,
            "justify_content": null,
            "justify_items": null,
            "left": null,
            "margin": null,
            "max_height": null,
            "max_width": null,
            "min_height": null,
            "min_width": null,
            "object_fit": null,
            "object_position": null,
            "order": null,
            "overflow": null,
            "overflow_x": null,
            "overflow_y": null,
            "padding": null,
            "right": null,
            "top": null,
            "visibility": null,
            "width": null
          }
        },
        "ec067c231336428fa8cf02d51ce65c98": {
          "model_module": "@jupyter-widgets/controls",
          "model_name": "DescriptionStyleModel",
          "model_module_version": "1.5.0",
          "state": {
            "_model_module": "@jupyter-widgets/controls",
            "_model_module_version": "1.5.0",
            "_model_name": "DescriptionStyleModel",
            "_view_count": null,
            "_view_module": "@jupyter-widgets/base",
            "_view_module_version": "1.2.0",
            "_view_name": "StyleView",
            "description_width": ""
          }
        },
        "a35c23187b7a41a9a2a2ff48b153618f": {
          "model_module": "@jupyter-widgets/base",
          "model_name": "LayoutModel",
          "model_module_version": "1.2.0",
          "state": {
            "_model_module": "@jupyter-widgets/base",
            "_model_module_version": "1.2.0",
            "_model_name": "LayoutModel",
            "_view_count": null,
            "_view_module": "@jupyter-widgets/base",
            "_view_module_version": "1.2.0",
            "_view_name": "LayoutView",
            "align_content": null,
            "align_items": null,
            "align_self": null,
            "border": null,
            "bottom": null,
            "display": null,
            "flex": null,
            "flex_flow": null,
            "grid_area": null,
            "grid_auto_columns": null,
            "grid_auto_flow": null,
            "grid_auto_rows": null,
            "grid_column": null,
            "grid_gap": null,
            "grid_row": null,
            "grid_template_areas": null,
            "grid_template_columns": null,
            "grid_template_rows": null,
            "height": null,
            "justify_content": null,
            "justify_items": null,
            "left": null,
            "margin": null,
            "max_height": null,
            "max_width": null,
            "min_height": null,
            "min_width": null,
            "object_fit": null,
            "object_position": null,
            "order": null,
            "overflow": null,
            "overflow_x": null,
            "overflow_y": null,
            "padding": null,
            "right": null,
            "top": null,
            "visibility": null,
            "width": null
          }
        },
        "81b2293a151941dbb7fcfea22f6e3b69": {
          "model_module": "@jupyter-widgets/controls",
          "model_name": "ProgressStyleModel",
          "model_module_version": "1.5.0",
          "state": {
            "_model_module": "@jupyter-widgets/controls",
            "_model_module_version": "1.5.0",
            "_model_name": "ProgressStyleModel",
            "_view_count": null,
            "_view_module": "@jupyter-widgets/base",
            "_view_module_version": "1.2.0",
            "_view_name": "StyleView",
            "bar_color": null,
            "description_width": ""
          }
        },
        "1775805d70d14846b3f44fa36190c7d6": {
          "model_module": "@jupyter-widgets/base",
          "model_name": "LayoutModel",
          "model_module_version": "1.2.0",
          "state": {
            "_model_module": "@jupyter-widgets/base",
            "_model_module_version": "1.2.0",
            "_model_name": "LayoutModel",
            "_view_count": null,
            "_view_module": "@jupyter-widgets/base",
            "_view_module_version": "1.2.0",
            "_view_name": "LayoutView",
            "align_content": null,
            "align_items": null,
            "align_self": null,
            "border": null,
            "bottom": null,
            "display": null,
            "flex": null,
            "flex_flow": null,
            "grid_area": null,
            "grid_auto_columns": null,
            "grid_auto_flow": null,
            "grid_auto_rows": null,
            "grid_column": null,
            "grid_gap": null,
            "grid_row": null,
            "grid_template_areas": null,
            "grid_template_columns": null,
            "grid_template_rows": null,
            "height": null,
            "justify_content": null,
            "justify_items": null,
            "left": null,
            "margin": null,
            "max_height": null,
            "max_width": null,
            "min_height": null,
            "min_width": null,
            "object_fit": null,
            "object_position": null,
            "order": null,
            "overflow": null,
            "overflow_x": null,
            "overflow_y": null,
            "padding": null,
            "right": null,
            "top": null,
            "visibility": null,
            "width": null
          }
        },
        "57b781d079c2491180ca1144b432f977": {
          "model_module": "@jupyter-widgets/controls",
          "model_name": "DescriptionStyleModel",
          "model_module_version": "1.5.0",
          "state": {
            "_model_module": "@jupyter-widgets/controls",
            "_model_module_version": "1.5.0",
            "_model_name": "DescriptionStyleModel",
            "_view_count": null,
            "_view_module": "@jupyter-widgets/base",
            "_view_module_version": "1.2.0",
            "_view_name": "StyleView",
            "description_width": ""
          }
        },
        "ca1b99abff134a2fb3cf58bdd075d7ed": {
          "model_module": "@jupyter-widgets/controls",
          "model_name": "VBoxModel",
          "model_module_version": "1.5.0",
          "state": {
            "_dom_classes": [
              "widget-interact"
            ],
            "_model_module": "@jupyter-widgets/controls",
            "_model_module_version": "1.5.0",
            "_model_name": "VBoxModel",
            "_view_count": null,
            "_view_module": "@jupyter-widgets/controls",
            "_view_module_version": "1.5.0",
            "_view_name": "VBoxView",
            "box_style": "",
            "children": [
              "IPY_MODEL_f7ea251c41e54d88900c5a4e38259cb1",
              "IPY_MODEL_aaf7c628c3eb4df69aeb7cf67fd62066"
            ],
            "layout": "IPY_MODEL_2f01137a135b459880ebe93af866b6ba"
          }
        },
        "f7ea251c41e54d88900c5a4e38259cb1": {
          "model_module": "@jupyter-widgets/controls",
          "model_name": "ToggleButtonsModel",
          "model_module_version": "1.5.0",
          "state": {
            "_dom_classes": [],
            "_model_module": "@jupyter-widgets/controls",
            "_model_module_version": "1.5.0",
            "_model_name": "ToggleButtonsModel",
            "_options_labels": [
              "Pipeline Plot",
              "Hyperparameters",
              "AUC",
              "Confusion Matrix",
              "Threshold",
              "Precision Recall",
              "Prediction Error",
              "Class Report",
              "Feature Selection",
              "Learning Curve",
              "Manifold Learning",
              "Calibration Curve",
              "Validation Curve",
              "Dimensions",
              "Feature Importance",
              "Feature Importance (All)",
              "Decision Boundary",
              "Lift Chart",
              "Gain Chart",
              "Decision Tree",
              "KS Statistic Plot"
            ],
            "_view_count": null,
            "_view_module": "@jupyter-widgets/controls",
            "_view_module_version": "1.5.0",
            "_view_name": "ToggleButtonsView",
            "button_style": "",
            "description": "Plot Type:",
            "description_tooltip": null,
            "disabled": false,
            "icons": [
              ""
            ],
            "index": 16,
            "layout": "IPY_MODEL_5ad78b9e0b0940f7a2577cd9ad85b72e",
            "style": "IPY_MODEL_9e1b0c6422104161aa4fe87cef77e51d",
            "tooltips": []
          }
        },
        "aaf7c628c3eb4df69aeb7cf67fd62066": {
          "model_module": "@jupyter-widgets/output",
          "model_name": "OutputModel",
          "model_module_version": "1.0.0",
          "state": {
            "_dom_classes": [],
            "_model_module": "@jupyter-widgets/output",
            "_model_module_version": "1.0.0",
            "_model_name": "OutputModel",
            "_view_count": null,
            "_view_module": "@jupyter-widgets/output",
            "_view_module_version": "1.0.0",
            "_view_name": "OutputView",
            "layout": "IPY_MODEL_b6816ba88a8540e0a15b0918d0b5d956",
            "msg_id": "",
            "outputs": [
              {
                "output_type": "display_data",
                "data": {
                  "text/plain": "<Figure size 800x550 with 1 Axes>",
                  "image/png": "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\n"
                },
                "metadata": {}
              }
            ]
          }
        },
        "2f01137a135b459880ebe93af866b6ba": {
          "model_module": "@jupyter-widgets/base",
          "model_name": "LayoutModel",
          "model_module_version": "1.2.0",
          "state": {
            "_model_module": "@jupyter-widgets/base",
            "_model_module_version": "1.2.0",
            "_model_name": "LayoutModel",
            "_view_count": null,
            "_view_module": "@jupyter-widgets/base",
            "_view_module_version": "1.2.0",
            "_view_name": "LayoutView",
            "align_content": null,
            "align_items": null,
            "align_self": null,
            "border": null,
            "bottom": null,
            "display": null,
            "flex": null,
            "flex_flow": null,
            "grid_area": null,
            "grid_auto_columns": null,
            "grid_auto_flow": null,
            "grid_auto_rows": null,
            "grid_column": null,
            "grid_gap": null,
            "grid_row": null,
            "grid_template_areas": null,
            "grid_template_columns": null,
            "grid_template_rows": null,
            "height": null,
            "justify_content": null,
            "justify_items": null,
            "left": null,
            "margin": null,
            "max_height": null,
            "max_width": null,
            "min_height": null,
            "min_width": null,
            "object_fit": null,
            "object_position": null,
            "order": null,
            "overflow": null,
            "overflow_x": null,
            "overflow_y": null,
            "padding": null,
            "right": null,
            "top": null,
            "visibility": null,
            "width": null
          }
        },
        "5ad78b9e0b0940f7a2577cd9ad85b72e": {
          "model_module": "@jupyter-widgets/base",
          "model_name": "LayoutModel",
          "model_module_version": "1.2.0",
          "state": {
            "_model_module": "@jupyter-widgets/base",
            "_model_module_version": "1.2.0",
            "_model_name": "LayoutModel",
            "_view_count": null,
            "_view_module": "@jupyter-widgets/base",
            "_view_module_version": "1.2.0",
            "_view_name": "LayoutView",
            "align_content": null,
            "align_items": null,
            "align_self": null,
            "border": null,
            "bottom": null,
            "display": null,
            "flex": null,
            "flex_flow": null,
            "grid_area": null,
            "grid_auto_columns": null,
            "grid_auto_flow": null,
            "grid_auto_rows": null,
            "grid_column": null,
            "grid_gap": null,
            "grid_row": null,
            "grid_template_areas": null,
            "grid_template_columns": null,
            "grid_template_rows": null,
            "height": null,
            "justify_content": null,
            "justify_items": null,
            "left": null,
            "margin": null,
            "max_height": null,
            "max_width": null,
            "min_height": null,
            "min_width": null,
            "object_fit": null,
            "object_position": null,
            "order": null,
            "overflow": null,
            "overflow_x": null,
            "overflow_y": null,
            "padding": null,
            "right": null,
            "top": null,
            "visibility": null,
            "width": null
          }
        },
        "9e1b0c6422104161aa4fe87cef77e51d": {
          "model_module": "@jupyter-widgets/controls",
          "model_name": "ToggleButtonsStyleModel",
          "model_module_version": "1.5.0",
          "state": {
            "_model_module": "@jupyter-widgets/controls",
            "_model_module_version": "1.5.0",
            "_model_name": "ToggleButtonsStyleModel",
            "_view_count": null,
            "_view_module": "@jupyter-widgets/base",
            "_view_module_version": "1.2.0",
            "_view_name": "StyleView",
            "button_width": "",
            "description_width": "",
            "font_weight": ""
          }
        },
        "b6816ba88a8540e0a15b0918d0b5d956": {
          "model_module": "@jupyter-widgets/base",
          "model_name": "LayoutModel",
          "model_module_version": "1.2.0",
          "state": {
            "_model_module": "@jupyter-widgets/base",
            "_model_module_version": "1.2.0",
            "_model_name": "LayoutModel",
            "_view_count": null,
            "_view_module": "@jupyter-widgets/base",
            "_view_module_version": "1.2.0",
            "_view_name": "LayoutView",
            "align_content": null,
            "align_items": null,
            "align_self": null,
            "border": null,
            "bottom": null,
            "display": null,
            "flex": null,
            "flex_flow": null,
            "grid_area": null,
            "grid_auto_columns": null,
            "grid_auto_flow": null,
            "grid_auto_rows": null,
            "grid_column": null,
            "grid_gap": null,
            "grid_row": null,
            "grid_template_areas": null,
            "grid_template_columns": null,
            "grid_template_rows": null,
            "height": null,
            "justify_content": null,
            "justify_items": null,
            "left": null,
            "margin": null,
            "max_height": null,
            "max_width": null,
            "min_height": null,
            "min_width": null,
            "object_fit": null,
            "object_position": null,
            "order": null,
            "overflow": null,
            "overflow_x": null,
            "overflow_y": null,
            "padding": null,
            "right": null,
            "top": null,
            "visibility": null,
            "width": null
          }
        }
      }
    }
  },
  "nbformat": 4,
  "nbformat_minor": 0
}